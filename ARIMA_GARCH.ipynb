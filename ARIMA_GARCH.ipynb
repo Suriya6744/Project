{
  "nbformat": 4,
  "nbformat_minor": 0,
  "metadata": {
    "colab": {
      "private_outputs": true,
      "provenance": [],
      "mount_file_id": "https://github.com/Suriya6744/Project/blob/main/ARIMA_GARCH.ipynb",
      "authorship_tag": "ABX9TyP6q7dgL6sQdqJom70ekv4x",
      "include_colab_link": true
    },
    "kernelspec": {
      "name": "python3",
      "display_name": "Python 3"
    },
    "language_info": {
      "name": "python"
    }
  },
  "cells": [
    {
      "cell_type": "markdown",
      "metadata": {
        "id": "view-in-github",
        "colab_type": "text"
      },
      "source": [
        "<a href=\"https://colab.research.google.com/github/Suriya6744/Project/blob/main/ARIMA_GARCH.ipynb\" target=\"_parent\"><img src=\"https://colab.research.google.com/assets/colab-badge.svg\" alt=\"Open In Colab\"/></a>"
      ]
    },
    {
      "cell_type": "markdown",
      "source": [
        "#Preparing Data"
      ],
      "metadata": {
        "id": "_KlFORTT5hiE"
      }
    },
    {
      "cell_type": "code",
      "execution_count": null,
      "metadata": {
        "id": "3xXDZnxk5Bm4"
      },
      "outputs": [],
      "source": [
        "import pandas as pd\n",
        "\n",
        "from google.colab import drive\n",
        "drive.mount('/content/drive')"
      ]
    },
    {
      "cell_type": "code",
      "source": [
        "# #ราคาทองคำ\n",
        "# xau = pd.read_csv('/content/drive/MyDrive/Project1/XAU_USD.csv')\n",
        "\n",
        "# #ราคาน้ำมันดิบ\n",
        "# wti = pd.read_csv('/content/drive/MyDrive/Project1/WTI_USD.csv')\n",
        "\n",
        "# #อัตราแลกเปลี่ยน\n",
        "# ex = pd.read_csv('/content/drive/MyDrive/Project1/USD_THB.csv')\n",
        "\n",
        "# #หุ้น PTT\n",
        "# ptt = pd.read_csv('/content/drive/MyDrive/Project1/PTT.csv')\n",
        "\n",
        "# #หุ้น SCG\n",
        "# scg = pd.read_csv('/content/drive/MyDrive/Project1/SCG.csv')\n",
        "\n",
        "# #หุ้น SOLAR\n",
        "# solar = pd.read_csv('/content/drive/MyDrive/Project1/SOLAR.csv')"
      ],
      "metadata": {
        "id": "TSKGHf9-0haa"
      },
      "execution_count": null,
      "outputs": []
    },
    {
      "cell_type": "code",
      "source": [
        "# xau =xau .rename(columns={'วันเดือนปี':'date','ล่าสุด': 'cp_xau'})\n",
        "\n",
        "# wti =wti .rename(columns={'วันเดือนปี':'date','ล่าสุด': 'cp_wti'})\n",
        "\n",
        "# ex =ex.rename(columns={'วันเดือนปี':'date','ล่าสุด': 'cp_ex'})\n",
        "\n",
        "# ptt =ptt.rename(columns={'วันเดือนปี':'date','ล่าสุด': 'cp_ptt','ปริมาณ': 'vol_ptt'})\n",
        "\n",
        "# scg=scg.rename(columns={'วันเดือนปี':'date','ล่าสุด': 'cp_scg','ปริมาณ': 'vol_scg'})\n",
        "\n",
        "# solar=solar.rename(columns={'วันเดือนปี':'date','ล่าสุด': 'cp_solar','ปริมาณ': 'vol_solar'})"
      ],
      "metadata": {
        "id": "ETbOw9XW-AG1"
      },
      "execution_count": null,
      "outputs": []
    },
    {
      "cell_type": "markdown",
      "source": [
        "##หุ้น PTT"
      ],
      "metadata": {
        "id": "F2m_5UKNkzZG"
      }
    },
    {
      "cell_type": "markdown",
      "source": [],
      "metadata": {
        "id": "xj0ZxK8m06ss"
      }
    },
    {
      "cell_type": "code",
      "source": [
        "ptt = pd.read_csv('/content/drive/MyDrive/Project1/PTT.csv')\n",
        "ptt.shape"
      ],
      "metadata": {
        "id": "Pb3zNRLYhwoT"
      },
      "execution_count": null,
      "outputs": []
    },
    {
      "cell_type": "code",
      "source": [
        "ptt.head()"
      ],
      "metadata": {
        "id": "7bN_hxVKlHWw"
      },
      "execution_count": null,
      "outputs": []
    },
    {
      "cell_type": "code",
      "source": [
        "ptt.isnull().any()"
      ],
      "metadata": {
        "id": "cn3FmPfPlPZs"
      },
      "execution_count": null,
      "outputs": []
    },
    {
      "cell_type": "code",
      "source": [
        "#เลือกเฉพาะคอลัมน์ที่ต้องการ\n",
        "ptt=ptt[['วันเดือนปี','ล่าสุด','ปริมาณ']]\n",
        "# ptt['ปริมาณ']=ptt['ปริมาณ'].astype(str)\n",
        "\n",
        "# #แทนที่ M ด้วยช่องว่าง\n",
        "# ptt['ปริมาณ'] = ptt['ปริมาณ'].str.replace('M', '', regex=True)\n",
        "# ptt['ปริมาณ']=ptt['ปริมาณ'].astype(float)\n",
        "\n",
        "# # สร้างฟังก์ชันที่คูณค่าทุกค่าในคอลัมน์ด้วย 1,000,000\n",
        "# def multiply_by_million(value):\n",
        "#     return value * 1000000\n",
        "\n",
        "# # ใช้ .apply() เพื่อคูณค่าในคอลัมน์ 'Column1' และ 'Column2' ด้วย 1,000,000\n",
        "# ptt['ปริมาณ']=ptt['ปริมาณ'].apply(multiply_by_million)\n",
        "# ptt['ปริมาณ']=ptt['ปริมาณ'].astype(int)\n",
        "\n",
        "# ใช้ .rename() เพื่อเปลี่ยนชื่อคอลัมน์\n",
        "ptt =ptt.rename(columns={'วันเดือนปี':'date','ล่าสุด': 'cp_ptt',\n",
        "                        'ปริมาณ': 'vol_ptt'})\n",
        "ptt\n",
        "\n"
      ],
      "metadata": {
        "id": "9AdN5BEnzF2M"
      },
      "execution_count": null,
      "outputs": []
    },
    {
      "cell_type": "code",
      "source": [
        "ptt['vol_ptt']=ptt['vol_ptt'].astype(str)\n",
        "\n",
        "# #แทนที่ M ด้วยช่องว่าง\n",
        "ptt['vol_ptt'] = ptt['vol_ptt'].str.replace('M', '', regex=True)\n",
        "ptt['vol_ptt']=ptt['vol_ptt'].astype(float)\n",
        "\n",
        "# # สร้างฟังก์ชันที่คูณค่าทุกค่าในคอลัมน์ด้วย 1,000,000\n",
        "def multiply_by_million(value):\n",
        "     return value * 1000000\n",
        "\n",
        "# # ใช้ .apply() เพื่อคูณค่าในคอลัมน์ 'Column1' และ 'Column2' ด้วย 1,000,000\n",
        "ptt['vol_ptt']=ptt['vol_ptt'].apply(multiply_by_million)\n",
        "ptt['vol_ptt']=ptt['vol_ptt'].astype(int)\n",
        "ptt"
      ],
      "metadata": {
        "id": "o6QM-QmnbHXO"
      },
      "execution_count": null,
      "outputs": []
    },
    {
      "cell_type": "markdown",
      "source": [
        "##หุ้น SCG"
      ],
      "metadata": {
        "id": "N7SYOoqok1oB"
      }
    },
    {
      "cell_type": "code",
      "source": [
        "scg = pd.read_csv('/content/drive/MyDrive/Project1/SCG.csv')\n",
        "scg.shape\n"
      ],
      "metadata": {
        "id": "3lZUAcIsiwBK"
      },
      "execution_count": null,
      "outputs": []
    },
    {
      "cell_type": "code",
      "source": [
        "scg.head()"
      ],
      "metadata": {
        "id": "W7tHBcAL-Lsw"
      },
      "execution_count": null,
      "outputs": []
    },
    {
      "cell_type": "code",
      "source": [
        "scg.isnull().any()"
      ],
      "metadata": {
        "id": "E6zLs3dK3R_b"
      },
      "execution_count": null,
      "outputs": []
    },
    {
      "cell_type": "code",
      "source": [
        "#เลือกเฉพาะคอลัมน์ที่ต้องการ\n",
        "scg=scg[['วันเดือนปี','ล่าสุด','ปริมาณ']]\n",
        "\n",
        "# แปลงค่าในคอลัมน์ 'ปริมาณ' ตามเงื่อนไข\n",
        "# scg['ปริมาณ'] = scg['ปริมาณ'].str.replace('K', 'e3').str.replace('M', 'e6').astype(float)\n",
        "# scg['ปริมาณ']=scg['ปริมาณ'].astype(int)\n",
        "\n",
        "# ใช้ .rename() เพื่อเปลี่ยนชื่อคอลัมน์\n",
        "scg=scg.rename(columns={'วันเดือนปี':'date','ล่าสุด': 'cp_scg',\n",
        "                        'ปริมาณ': 'vol_scg'})\n",
        "scg"
      ],
      "metadata": {
        "id": "nZ5YyLeu3H6q"
      },
      "execution_count": null,
      "outputs": []
    },
    {
      "cell_type": "code",
      "source": [
        "scg['vol_scg'] = scg['vol_scg'].str.replace('K', 'e3').str.replace('M', 'e6').astype(float)\n",
        "scg['vol_scg']=scg['vol_scg'].astype(int)\n",
        "scg"
      ],
      "metadata": {
        "id": "tDERPEuObzi8"
      },
      "execution_count": null,
      "outputs": []
    },
    {
      "cell_type": "markdown",
      "source": [
        "##หุ้น SOLAR"
      ],
      "metadata": {
        "id": "jBQSnsypk4gX"
      }
    },
    {
      "cell_type": "code",
      "source": [
        "solar = pd.read_csv('/content/drive/MyDrive/Project1/SOLAR.csv')\n",
        "solar.shape\n"
      ],
      "metadata": {
        "id": "ZFizdsFEjo7d"
      },
      "execution_count": null,
      "outputs": []
    },
    {
      "cell_type": "code",
      "source": [
        "solar.head()"
      ],
      "metadata": {
        "id": "tfE4gaLP_KnZ"
      },
      "execution_count": null,
      "outputs": []
    },
    {
      "cell_type": "code",
      "source": [
        "solar.isnull().any()"
      ],
      "metadata": {
        "id": "esJmVCURCLCx"
      },
      "execution_count": null,
      "outputs": []
    },
    {
      "cell_type": "code",
      "source": [
        "#เลือกเฉพาะคอลัมน์ที่ต้องการ\n",
        "solar=solar[['วันเดือนปี','ล่าสุด','ปริมาณ']]\n",
        "\n",
        "# แปลงค่าในคอลัมน์ 'ปริมาณ' ตามเงื่อนไข\n",
        "# solar['ปริมาณ'] = solar['ปริมาณ'].str.replace('K', 'e3').str.replace('M', 'e6').astype(float)\n",
        "# solar['ปริมาณ']=solar['ปริมาณ'].astype(int)\n",
        "\n",
        "# ใช้ .rename() เพื่อเปลี่ยนชื่อคอลัมน์\n",
        "solar=solar.rename(columns={'วันเดือนปี':'date','ล่าสุด': 'cp_solar',\n",
        "                        'ปริมาณ': 'vol_solar'})\n",
        "solar"
      ],
      "metadata": {
        "id": "tJWBwRmbCLCx"
      },
      "execution_count": null,
      "outputs": []
    },
    {
      "cell_type": "code",
      "source": [
        "# แปลงค่าในคอลัมน์ 'ปริมาณ' ตามเงื่อนไข\n",
        "solar['vol_solar'] = solar['vol_solar'].str.replace('K', 'e3').str.replace('M', 'e6').astype(float)\n",
        "solar['vol_solar']=solar['vol_solar'].astype(int)\n",
        "solar"
      ],
      "metadata": {
        "id": "F_zEYhwScK9S"
      },
      "execution_count": null,
      "outputs": []
    },
    {
      "cell_type": "markdown",
      "source": [
        "## ราคาน้ำมันดิบ (WTI)"
      ],
      "metadata": {
        "id": "xBtgFgZOk_6x"
      }
    },
    {
      "cell_type": "code",
      "source": [
        "wti = pd.read_csv('/content/drive/MyDrive/Project1/WTI_USD.csv')\n",
        "wti.shape"
      ],
      "metadata": {
        "id": "wtW79vslkCHt"
      },
      "execution_count": null,
      "outputs": []
    },
    {
      "cell_type": "code",
      "source": [
        "wti.head()"
      ],
      "metadata": {
        "id": "geNMiT-nAJT6"
      },
      "execution_count": null,
      "outputs": []
    },
    {
      "cell_type": "code",
      "source": [
        "wti.isnull().any()"
      ],
      "metadata": {
        "id": "G37F4p7kAYdD"
      },
      "execution_count": null,
      "outputs": []
    },
    {
      "cell_type": "code",
      "source": [
        "wti.dtypes"
      ],
      "metadata": {
        "id": "kqtQ3jHMCCL_"
      },
      "execution_count": null,
      "outputs": []
    },
    {
      "cell_type": "code",
      "source": [
        "#เลือกเฉพาะคอลัมน์ที่ต้องการ\n",
        "wti=wti[['วันเดือนปี','ล่าสุด']]\n",
        "\n",
        "# ใช้ .rename() เพื่อเปลี่ยนชื่อคอลัมน์\n",
        "wti =wti .rename(columns={'วันเดือนปี':'date','ล่าสุด': 'cp_wti'})\n",
        "wti"
      ],
      "metadata": {
        "id": "GO77BtF-DyX5"
      },
      "execution_count": null,
      "outputs": []
    },
    {
      "cell_type": "markdown",
      "source": [
        "##ราคาทองคำ (XAU)"
      ],
      "metadata": {
        "id": "9TQ41wHilDVE"
      }
    },
    {
      "cell_type": "code",
      "source": [
        "xau = pd.read_csv('/content/drive/MyDrive/Project1/XAU_USD.csv')\n",
        "xau.shape"
      ],
      "metadata": {
        "id": "uvOUWn70kNx7"
      },
      "execution_count": null,
      "outputs": []
    },
    {
      "cell_type": "code",
      "source": [
        "xau.head()"
      ],
      "metadata": {
        "id": "TpoYz5_XA48A"
      },
      "execution_count": null,
      "outputs": []
    },
    {
      "cell_type": "code",
      "source": [
        "xau.isnull().any()"
      ],
      "metadata": {
        "id": "SJFfQwPNBEwu"
      },
      "execution_count": null,
      "outputs": []
    },
    {
      "cell_type": "code",
      "source": [
        "xau.dtypes"
      ],
      "metadata": {
        "id": "Ko39-P_0Bs5z"
      },
      "execution_count": null,
      "outputs": []
    },
    {
      "cell_type": "code",
      "source": [
        "#เลือกเฉพาะคอลัมน์ที่ต้องการ\n",
        "xau=xau[['วันเดือนปี','ล่าสุด']]\n",
        "\n",
        "# ใช้ .rename() เพื่อเปลี่ยนชื่อคอลัมน์\n",
        "xau =xau .rename(columns={'วันเดือนปี':'date','ล่าสุด': 'cp_xau'})\n",
        "xau['cp_xau'] = xau['cp_xau'].str.replace(',', '').astype(float)\n",
        "xau"
      ],
      "metadata": {
        "id": "TrTu3bXbEG9h"
      },
      "execution_count": null,
      "outputs": []
    },
    {
      "cell_type": "markdown",
      "source": [
        "##อัตราแลกเปลี่ยน (EX)"
      ],
      "metadata": {
        "id": "2iUt98vFk9dY"
      }
    },
    {
      "cell_type": "code",
      "source": [
        "ex = pd.read_csv('/content/drive/MyDrive/Project1/USD_THB.csv')\n",
        "ex.shape"
      ],
      "metadata": {
        "id": "QepX6vCgjzFd"
      },
      "execution_count": null,
      "outputs": []
    },
    {
      "cell_type": "code",
      "source": [
        "ex.head()"
      ],
      "metadata": {
        "id": "9z-f9-lzCwg7"
      },
      "execution_count": null,
      "outputs": []
    },
    {
      "cell_type": "code",
      "source": [
        "ex.isnull().any()"
      ],
      "metadata": {
        "id": "TwIeN0hPC8hE"
      },
      "execution_count": null,
      "outputs": []
    },
    {
      "cell_type": "code",
      "source": [
        "ex.dtypes"
      ],
      "metadata": {
        "id": "6Xtj8UxNDFBq"
      },
      "execution_count": null,
      "outputs": []
    },
    {
      "cell_type": "code",
      "source": [
        "ex =ex .rename(columns={'วันเดือนปี':'date','ล่าสุด': 'cp_ex'})\n",
        "ex = ex[['date' ,'cp_ex']]\n",
        "ex"
      ],
      "metadata": {
        "id": "sYA_XFCmsLuO"
      },
      "execution_count": null,
      "outputs": []
    },
    {
      "cell_type": "markdown",
      "source": [
        "##Merge Table"
      ],
      "metadata": {
        "id": "GX4vkM8pEvI7"
      }
    },
    {
      "cell_type": "code",
      "source": [
        "tm1 = wti.merge(ex, how ='left', left_on=['date',], right_on=['date',])\n",
        "tm2 = tm1.merge(xau, how ='left', left_on=['date',], right_on=['date',])\n",
        "tm3 = tm2.merge(ptt, how ='left', left_on=['date',], right_on=['date',])\n",
        "tm4 = tm3.merge(scg, how ='left', left_on=['date',], right_on=['date',])\n",
        "tm5 = tm4.merge(solar, how ='left', left_on=['date',], right_on=['date',])\n",
        "all_data = tm5"
      ],
      "metadata": {
        "id": "rKEezSnqEye_"
      },
      "execution_count": null,
      "outputs": []
    },
    {
      "cell_type": "code",
      "source": [
        "all_data.isnull().any()"
      ],
      "metadata": {
        "id": "Yf4D_ex3FDFi"
      },
      "execution_count": null,
      "outputs": []
    },
    {
      "cell_type": "code",
      "source": [
        "all_data['date'] = all_data['date'].str.replace('/', '-')\n",
        "all_data"
      ],
      "metadata": {
        "id": "lFK4efKGGxkO"
      },
      "execution_count": null,
      "outputs": []
    },
    {
      "cell_type": "markdown",
      "source": [
        "##แทนค่าสูญหาย"
      ],
      "metadata": {
        "id": "8aWGL-QwlyQV"
      }
    },
    {
      "cell_type": "code",
      "source": [
        "all_data.isnull().any()"
      ],
      "metadata": {
        "id": "q0Lz-it9ns5n"
      },
      "execution_count": null,
      "outputs": []
    },
    {
      "cell_type": "code",
      "source": [
        "# แทนค่าข้อมูลหายไปด้วยค่าเฉลี่ยของคอลัมน์\n",
        "mean_value = all_data['cp_ex'].mean()\n",
        "all_data['cp_ex'].fillna(mean_value, inplace=True)\n",
        "\n",
        "mean_value = all_data['cp_xau'].mean()\n",
        "all_data['cp_xau'].fillna(mean_value, inplace=True)\n",
        "\n",
        "mean_value = all_data['cp_ptt'].mean()\n",
        "all_data['cp_ptt'].fillna(mean_value, inplace=True)\n",
        "\n",
        "mean_value = all_data['vol_ptt'].mean()\n",
        "all_data['vol_ptt'].fillna(mean_value, inplace=True)\n",
        "\n",
        "mean_value = all_data['cp_scg'].mean()\n",
        "all_data['cp_scg'].fillna(mean_value, inplace=True)\n",
        "\n",
        "mean_value = all_data['vol_scg'].mean()\n",
        "all_data['vol_scg'].fillna(mean_value, inplace=True)\n",
        "\n",
        "mean_value = all_data['cp_solar'].mean()\n",
        "all_data['cp_solar'].fillna(mean_value, inplace=True)\n",
        "\n",
        "mean_value = all_data['vol_solar'].mean()\n",
        "all_data['vol_solar'].fillna(mean_value, inplace=True)"
      ],
      "metadata": {
        "id": "S2VyeSdflwgu"
      },
      "execution_count": null,
      "outputs": []
    },
    {
      "cell_type": "code",
      "source": [
        "all_data.isnull().any()"
      ],
      "metadata": {
        "id": "3OmwRFaVnaFw"
      },
      "execution_count": null,
      "outputs": []
    },
    {
      "cell_type": "code",
      "source": [
        "all_data = round(all_data, 2) #ทศนิยม 2 ตำแหน่ง\n",
        "all_data"
      ],
      "metadata": {
        "id": "_R_Z__5LpVeP"
      },
      "execution_count": null,
      "outputs": []
    },
    {
      "cell_type": "code",
      "source": [
        "all_data.to_csv('Project_data5.csv', index=False)"
      ],
      "metadata": {
        "id": "9eXfTeJ0rAlx"
      },
      "execution_count": null,
      "outputs": []
    },
    {
      "cell_type": "code",
      "source": [
        "#ลบค่า NaN\n",
        "#all_data= tm5.dropna()\n",
        "\n",
        "# แทนที่เครื่องหมาย / ด้วย - ในคอลัมน์ date\n",
        "all_data['date'] = all_data['date'].str.replace('/', '-')\n",
        "\n",
        "# คูณคอลัมน์ 'cp_wti' ด้วยคอลัมน์ 'cp_ex' เพื่อแปลงหน่วย USD ให้เป็น THB\n",
        "all_data['cp_wti'] = all_data['cp_wti'] * all_data['cp_ex']\n",
        "# คูณคอลัมน์ 'cp_xau ด้วยคอลัมน์ 'cp_ex' เพื่อแปลงหน่วย USD ให้เป็น THB\n",
        "all_data['cp_xau'] = all_data['cp_xau'] * all_data['cp_ex']\n",
        "all_data"
      ],
      "metadata": {
        "id": "KHauydpzHYCx"
      },
      "execution_count": null,
      "outputs": []
    },
    {
      "cell_type": "code",
      "source": [
        "all_data.to_csv('Project_data2.csv', index=False)"
      ],
      "metadata": {
        "id": "E_XeEYz6GQYX"
      },
      "execution_count": null,
      "outputs": []
    },
    {
      "cell_type": "code",
      "source": [
        "# save data\n",
        "#all_data.to_csv('Project_data.csv', index=False)"
      ],
      "metadata": {
        "id": "7A7fy2MNJc2s"
      },
      "execution_count": null,
      "outputs": []
    },
    {
      "cell_type": "markdown",
      "source": [
        "## Standardize"
      ],
      "metadata": {
        "id": "Rqk169X-XMD7"
      }
    },
    {
      "cell_type": "code",
      "source": [
        "all_data_X = all_data[['cp_wti', 'cp_ex', 'cp_xau', 'cp_ptt', 'vol_ptt', 'cp_scg','vol_scg', 'cp_solar', 'vol_solar']]\n",
        "all_data_X"
      ],
      "metadata": {
        "id": "-ym6sOH4XQ_c"
      },
      "execution_count": null,
      "outputs": []
    },
    {
      "cell_type": "code",
      "source": [
        "import pandas as pd\n",
        "from sklearn.preprocessing import StandardScaler\n",
        "scaler = StandardScaler()\n",
        "\n",
        "# Fit และ Transform ข้อมูล\n",
        "scaled_data = scaler.fit_transform(all_data_X)\n",
        "\n",
        "# สร้าง DataFrame ใหม่จากข้อมูลที่ปรับแล้ว\n",
        "scaled_df = pd.DataFrame(scaled_data, columns=all_data_X.columns)\n",
        "\n",
        "# แสดงผลลัพธ์\n",
        "scaled_df"
      ],
      "metadata": {
        "id": "hDCMCuO9XZWb"
      },
      "execution_count": null,
      "outputs": []
    },
    {
      "cell_type": "code",
      "source": [
        "#หาความสัมพันธ์\n",
        "correlation_matrix = scaled_df.corr()\n",
        "correlation_matrix"
      ],
      "metadata": {
        "id": "p5PZOIq_c9bO"
      },
      "execution_count": null,
      "outputs": []
    },
    {
      "cell_type": "code",
      "source": [
        "import pandas as pd\n",
        "import matplotlib.pyplot as plt\n",
        "import seaborn as sns\n",
        "# Create a heatmap\n",
        "plt.figure(figsize=(10, 8))  # Adjust the figure size if needed\n",
        "sns.heatmap(correlation_matrix, annot=True, cmap='coolwarm', fmt=\".2f\")\n",
        "plt.title(\"Correlation Heatmap\")\n",
        "plt.show()"
      ],
      "metadata": {
        "id": "KA5gnMfndB6E"
      },
      "execution_count": null,
      "outputs": []
    },
    {
      "cell_type": "code",
      "source": [
        "plt.figure(figsize=(12, 8))\n",
        "for column in scaled_df.columns:\n",
        "    plt.plot(scaled_df.index, scaled_df[column], marker='o', linestyle='-', label=column)\n",
        "\n",
        "plt.xlabel('Index')\n",
        "plt.ylabel('Value')\n",
        "plt.title('All Columns Plot')\n",
        "plt.legend(loc='upper right')\n",
        "plt.grid(True)\n",
        "plt.show()"
      ],
      "metadata": {
        "id": "F8B0O0lzXcZ6"
      },
      "execution_count": null,
      "outputs": []
    },
    {
      "cell_type": "markdown",
      "source": [
        "#ARIMA-GARCH"
      ],
      "metadata": {
        "id": "FmEOWGB1yKbp"
      }
    },
    {
      "cell_type": "markdown",
      "source": [
        "##ARIMA_PTT"
      ],
      "metadata": {
        "id": "6v1f-S-TySBX"
      }
    },
    {
      "cell_type": "code",
      "source": [
        "a = scaled_df[['cp_ptt','cp_wti','cp_ex','cp_xau','vol_ptt']]\n",
        "a"
      ],
      "metadata": {
        "id": "CAhH1tVJvaGO"
      },
      "execution_count": null,
      "outputs": []
    },
    {
      "cell_type": "code",
      "source": [
        "import pandas as pd\n",
        "import matplotlib.pyplot as plt\n",
        "\n",
        "# พล็อตกราฟ cp_ptt\n",
        "plt.figure(figsize=(10, 6))  # กำหนดขนาดของกราฟ\n",
        "plt.plot(a['cp_ptt'], marker='o', linestyle='-')\n",
        "plt.title('closing price ptt')\n",
        "plt.xlabel('Time')\n",
        "plt.ylabel('closing price')\n",
        "plt.show()\n"
      ],
      "metadata": {
        "id": "VyBMdwW41UpF"
      },
      "execution_count": null,
      "outputs": []
    },
    {
      "cell_type": "markdown",
      "source": [
        "###ACF_ptt"
      ],
      "metadata": {
        "id": "DU7fUHkn3YOZ"
      }
    },
    {
      "cell_type": "code",
      "source": [
        "import matplotlib.pyplot as plt\n",
        "from statsmodels.graphics.tsaplots import plot_acf\n",
        "import statsmodels.api as sm\n",
        "import pandas as pd\n",
        "\n",
        "# สร้าง subplot 2x1\n",
        "fig, axes = plt.subplots(2, 1, figsize=(10, 6))\n",
        "\n",
        "# วาดกราฟของ 'cp_ptt' ใน subplot แรก\n",
        "axes[0].plot(a.index, a['cp_ptt'], label='cp_ptt')\n",
        "axes[0].set_title('Close Price for PTT')\n",
        "axes[0].set_xlabel('Date')\n",
        "axes[0].set_ylabel('Close Price')\n",
        "\n",
        "# พล็อตกราฟ ACF ใน subplot ที่สอง\n",
        "sm.graphics.tsa.plot_acf(a['cp_ptt'], lags=60, ax=axes[1])  # เปลี่ยนคอลัมน์ให้ตรงกับข้อมูลจริง\n",
        "axes[1].set_title('Autocorrelation Function (ACF) for PTT')\n",
        "axes[1].set_xlabel('Lag')\n",
        "axes[1].set_ylabel('ACF')\n",
        "\n",
        "# แสดงกราฟเทียบระหว่างกราฟข้อมูลจริงกับกราฟ ACF\n",
        "plt.tight_layout()\n",
        "plt.show()\n",
        "\n"
      ],
      "metadata": {
        "id": "yPOtSjyz17ha"
      },
      "execution_count": null,
      "outputs": []
    },
    {
      "cell_type": "markdown",
      "source": [
        "###ทดสอบ ADF"
      ],
      "metadata": {
        "id": "UUfl_EvxvFoV"
      }
    },
    {
      "cell_type": "code",
      "source": [
        "import pandas as pd\n",
        "from statsmodels.tsa.stattools import adfuller\n",
        "\n",
        "\n",
        "# ทำ ADF Test\n",
        "adf_result = adfuller(a['cp_ptt'])\n",
        "\n",
        "# แสดงผลลัพธ์\n",
        "print(\"ADF Statistic:\", adf_result[0])\n",
        "print(\"p-value:\", adf_result[1])\n",
        "print(\"Critical Values:\", adf_result[4])\n",
        "#ค่า ADF Statistic มากกว่า Critical Values = ไม่นิ่ง"
      ],
      "metadata": {
        "id": "RdGYVf3au52F"
      },
      "execution_count": null,
      "outputs": []
    },
    {
      "cell_type": "markdown",
      "source": [
        "###Different 1"
      ],
      "metadata": {
        "id": "3RQfXVEB3q_Y"
      }
    },
    {
      "cell_type": "markdown",
      "source": [
        "#####ACF_ptt_diff"
      ],
      "metadata": {
        "id": "yZVYDn-V3wgv"
      }
    },
    {
      "cell_type": "code",
      "source": [
        "# ลบค่าก่อนหน้าเพื่อทำให้ข้อมูล stationary\n",
        "#ใชการแปลงอนุกรมเวลาให้มีค่าเฉลี่ยคงที่โดยหาผลต่างครั้งที่ d=1\n",
        "a['cp_ptt_diff'] = a['cp_ptt'].diff()\n",
        "a.dropna(inplace=True)  # ลบแถวที่มีค่าที่ขาดหาย\n"
      ],
      "metadata": {
        "id": "7v6xfScJwYN6"
      },
      "execution_count": null,
      "outputs": []
    },
    {
      "cell_type": "code",
      "source": [
        "import matplotlib.pyplot as plt\n",
        "from statsmodels.graphics.tsaplots import plot_acf\n",
        "import statsmodels.api as sm\n",
        "import pandas as pd\n",
        "\n",
        "# สร้าง subplot 2x1\n",
        "fig, axes = plt.subplots(2, 1, figsize=(10, 6))\n",
        "\n",
        "# วาดกราฟของ 'cp_ptt' ใน subplot แรก\n",
        "axes[0].plot(a.index,a['cp_ptt_diff'], label='cp_ptt_diff')\n",
        "axes[0].set_title('Close Price for PTT')\n",
        "axes[0].set_xlabel('Date')\n",
        "axes[0].set_ylabel('Close Price')\n",
        "\n",
        "# พล็อตกราฟ ACF ใน subplot ที่สอง\n",
        "sm.graphics.tsa.plot_acf(a['cp_ptt_diff'], lags=60, ax=axes[1])  # เปลี่ยนคอลัมน์ให้ตรงกับข้อมูลจริง\n",
        "axes[1].set_title('Autocorrelation Function (ACF) for PTT')\n",
        "axes[1].set_xlabel('Lag')\n",
        "axes[1].set_ylabel('ACF')\n",
        "\n",
        "# แสดงกราฟเทียบระหว่างกราฟข้อมูลจริงกับกราฟ ACF\n",
        "plt.tight_layout()\n",
        "plt.show()\n"
      ],
      "metadata": {
        "id": "ajSqYgQx4SAM"
      },
      "execution_count": null,
      "outputs": []
    },
    {
      "cell_type": "markdown",
      "source": [
        "####ทดสอบ ADF_diff"
      ],
      "metadata": {
        "id": "hW88jE734g7O"
      }
    },
    {
      "cell_type": "code",
      "source": [
        "# ทำ ADF Test อีกครั้ง\n",
        "from statsmodels.tsa.stattools import adfuller\n",
        "adf_result = adfuller(a['cp_ptt_diff'])\n",
        "print(\"ADF Statistic:\", adf_result[0])\n",
        "print(\"p-value:\", adf_result[1])\n",
        "print(\"Critical Values:\", adf_result[4])\n",
        "#เนื่องจากค่า ADF Statistic น้อยกว่า Critical Values แสดงว่าข้อมูลนิ่งแล้ว"
      ],
      "metadata": {
        "id": "ZD0dGJUH4Ma1"
      },
      "execution_count": null,
      "outputs": []
    },
    {
      "cell_type": "markdown",
      "source": [
        "###กำหนดตัวแบบ"
      ],
      "metadata": {
        "id": "sv5_NK0L8q1L"
      }
    },
    {
      "cell_type": "code",
      "source": [
        "import matplotlib.pyplot as plt\n",
        "from statsmodels.graphics.tsaplots import plot_acf, plot_pacf\n",
        "import statsmodels.api as sm\n",
        "import pandas as pd\n",
        "\n",
        "# สร้าง subplot 2x1\n",
        "fig, axes = plt.subplots(2, 1, figsize=(8, 4))\n",
        "\n",
        "# พล็อตกราฟ ACF ใน subplot แรก\n",
        "sm.graphics.tsa.plot_acf(a['cp_ptt_diff'], lags=60, ax=axes[0])\n",
        "axes[0].set_title('Autocorrelation Function (ACF) for PTT')\n",
        "axes[0].set_xlabel('Lag')\n",
        "axes[0].set_ylabel('ACF')\n",
        "\n",
        "# พล็อตกราฟ PACF ใน subplot ที่สอง\n",
        "sm.graphics.tsa.plot_pacf(a['cp_ptt_diff'], lags=60, ax=axes[1])\n",
        "axes[1].set_title('Partial Autocorrelation Function (PACF) for PTT')\n",
        "axes[1].set_xlabel('Lag')\n",
        "axes[1].set_ylabel('PACF')\n",
        "\n",
        "# แสดงกราฟเทียบระหว่าง ACF และ PACF\n",
        "plt.tight_layout()\n",
        "plt.show()\n"
      ],
      "metadata": {
        "id": "RffCl47g8FbK"
      },
      "execution_count": null,
      "outputs": []
    },
    {
      "cell_type": "markdown",
      "source": [
        "###หา parameter ที่ดีที่สุด"
      ],
      "metadata": {
        "id": "g2kwHw8U-AZv"
      }
    },
    {
      "cell_type": "code",
      "source": [
        "import itertools\n",
        "import pandas as pd\n",
        "import statsmodels.api as sm\n",
        "\n",
        "data = a['cp_ptt']\n",
        "\n",
        "# สร้างเซตของค่า p, d, และ q\n",
        "p_values =  [1] # เลือกค่า p 1\n",
        "d_values = [1]  # ค่า d ต้องเป็น 1 สำหรับ ARIMA\n",
        "q_values = range(0, 2)  # เลือกค่า q จาก 0 ถึง 1\n",
        "\n",
        "# สร้างรายการค่า AIC, BIC และพารามิเตอร์ที่เกี่ยวข้อง\n",
        "aic_values = []\n",
        "bic_values = []\n",
        "params = []\n",
        "\n",
        "# วนลูปผสานค่า p, d, และ q\n",
        "for p, d, q in itertools.product(p_values, d_values, q_values):\n",
        "    try:\n",
        "        # สร้างแบบจำลอง ARIMA\n",
        "        model = sm.tsa.ARIMA(data, order=(p, d, q))\n",
        "\n",
        "        # ปรับโมเดล\n",
        "        results = model.fit()\n",
        "\n",
        "        # นับค่า AIC, BIC และเก็บค่า AIC, BIC และพารามิเตอร์\n",
        "        aic = results.aic\n",
        "        bic = results.bic\n",
        "        aic_values.append(aic)\n",
        "        bic_values.append(bic)\n",
        "        params.append((p, d, q))\n",
        "\n",
        "        print(f'ARIMA({p},{d},{q}) - AIC: {aic}, BIC: {bic}')\n",
        "\n",
        "    except Exception as e:\n",
        "        continue\n",
        "\n",
        "# หาค่า AIC และ BIC ที่ดีที่สุดและพารามิเตอร์ที่เกี่ยวข้อง\n",
        "best_aic = min(aic_values)\n",
        "best_bic = min(bic_values)\n",
        "best_params = params[aic_values.index(best_aic)]\n",
        "\n",
        "print(f'Best AIC: {best_aic}')\n",
        "print(f'Best BIC: {best_bic}')\n",
        "print(f'Best Model (p, d, q): {best_params}')\n"
      ],
      "metadata": {
        "id": "nLx4I_L69wbM"
      },
      "execution_count": null,
      "outputs": []
    },
    {
      "cell_type": "markdown",
      "source": [
        "###ดูค่าคงที่"
      ],
      "metadata": {
        "id": "q_AS7VsOAOJQ"
      }
    },
    {
      "cell_type": "code",
      "source": [
        "import statsmodels.api as sm\n",
        "\n",
        "# สร้างแบบจำลอง ARIMA(1,1,0)\n",
        "model = sm.tsa.ARIMA(data, order=(1, 1, 0))\n",
        "\n",
        "# ปรับโมเดล\n",
        "results = model.fit()\n",
        "\n",
        "# ดูสรุปของโมเดล\n",
        "print(results.summary())"
      ],
      "metadata": {
        "id": "Dg6gil-EfHr5"
      },
      "execution_count": null,
      "outputs": []
    },
    {
      "cell_type": "markdown",
      "source": [
        "###พยากรณ์"
      ],
      "metadata": {
        "id": "Dqv5ezwIvC8z"
      }
    },
    {
      "cell_type": "code",
      "source": [
        "a['forecast'] = results.predict(start=0,end=-1,dynamic=False)\n",
        "a[['cp_ptt','forecast']].plot(figsize=(12,8))"
      ],
      "metadata": {
        "id": "4cSjgqfPpME9"
      },
      "execution_count": null,
      "outputs": []
    },
    {
      "cell_type": "markdown",
      "source": [
        "###ความคลาดเคลื่อน"
      ],
      "metadata": {
        "id": "_5GXUGEt8tkK"
      }
    },
    {
      "cell_type": "code",
      "source": [
        "import numpy as np\n",
        "\n",
        "# คำนวณค่า RMSE\n",
        "rmse = np.sqrt(((a['cp_ptt'] - a['forecast']) ** 2).mean())\n",
        "\n",
        "# คำนวณค่า MAPE\n",
        "mape = np.mean(np.abs((a['cp_ptt'] - a['forecast']) / a['cp_ptt'])) * 100\n",
        "\n",
        "print(\"Root Mean Squared Error (RMSE):\", rmse)\n",
        "print(\"Mean Absolute Percentage Error (MAPE):\", mape)\n"
      ],
      "metadata": {
        "id": "r9FS43p0rGsv"
      },
      "execution_count": null,
      "outputs": []
    },
    {
      "cell_type": "markdown",
      "source": [
        "###เปรียบเทียบค่าพยากรณ์และค่าจริง"
      ],
      "metadata": {
        "id": "CCr-eR1O8ze8"
      }
    },
    {
      "cell_type": "code",
      "source": [
        "import pandas as pd\n",
        "\n",
        "# สร้าง DataFrame ของค่าจริงและค่าพยากรณ์\n",
        "pare_af = pd.DataFrame({'Actual': a['cp_ptt'], 'Forecast': a['forecast']})\n",
        "\n",
        "# แสดงตารางเปรียบเทียบ\n",
        "pare_af\n"
      ],
      "metadata": {
        "id": "OsffMU8nrfTa"
      },
      "execution_count": null,
      "outputs": []
    },
    {
      "cell_type": "markdown",
      "source": [
        "###residual"
      ],
      "metadata": {
        "id": "fd0lP28h_jBM"
      }
    },
    {
      "cell_type": "code",
      "source": [
        "residuals = results.resid\n",
        "residuals"
      ],
      "metadata": {
        "id": "WLCWKJq7_Xpp"
      },
      "execution_count": null,
      "outputs": []
    },
    {
      "cell_type": "code",
      "source": [
        "import matplotlib.pyplot as plt\n",
        "\n",
        "# สร้างกราฟ\n",
        "plt.figure(figsize=(10, 6))\n",
        "plt.plot(residuals, label='Difference (Actual - Forecast)')\n",
        "plt.title('Difference Between Actual and Forecast')\n",
        "plt.xlabel('Time')\n",
        "plt.ylabel('Difference')\n",
        "plt.legend()\n",
        "plt.grid(True)\n",
        "plt.show()"
      ],
      "metadata": {
        "id": "QKQK8_86_l52"
      },
      "execution_count": null,
      "outputs": []
    },
    {
      "cell_type": "code",
      "source": [
        "import matplotlib.pyplot as plt\n",
        "from statsmodels.graphics.tsaplots import plot_acf, plot_pacf\n",
        "\n",
        "import statsmodels.api as sm\n",
        "import pandas as pd\n",
        "\n",
        "# สร้าง subplot 2x1\n",
        "fig, axes = plt.subplots(2, 1, figsize=(10, 6))\n",
        "\n",
        "# # วาดกราฟของ 'cp_ptt' ใน subplot แรก\n",
        "# axes[0].plot(residuals.index,residuals, label='cp_ptt_diff')\n",
        "# axes[0].set_title('Close Price for PTT')\n",
        "# axes[0].set_xlabel('Date')\n",
        "# axes[0].set_ylabel('Close Price')\n",
        "\n",
        "# พล็อตกราฟ ACF ใน subplot ที่สอง\n",
        "sm.graphics.tsa.plot_acf(residuals, lags=60, ax=axes[0])  # เปลี่ยนคอลัมน์ให้ตรงกับข้อมูลจริง\n",
        "axes[0].set_title('Autocorrelation Function (ACF) for PTT')\n",
        "axes[0].set_xlabel('Lag')\n",
        "axes[0].set_ylabel('ACF')\n",
        "\n",
        "# พล็อตกราฟ PACF ใน subplot ที่สาม\n",
        "sm.graphics.tsa.plot_pacf(residuals, lags=60, ax=axes[1])\n",
        "axes[1].set_title('Partial Autocorrelation Function (PACF) for PTT')\n",
        "axes[1].set_xlabel('Lag')\n",
        "axes[1].set_ylabel('PACF')\n",
        "\n",
        "# แสดงกราฟทั้งหมด\n",
        "plt.tight_layout()\n",
        "plt.show()"
      ],
      "metadata": {
        "id": "_PI2VAeL_wkC"
      },
      "execution_count": null,
      "outputs": []
    },
    {
      "cell_type": "markdown",
      "source": [
        "#GARCH"
      ],
      "metadata": {
        "id": "4PZIFnbp8o8O"
      }
    },
    {
      "cell_type": "code",
      "source": [
        "residuals = results.resid\n",
        "squared_residuals = residuals**2\n"
      ],
      "metadata": {
        "id": "-Py1mDt3otQz"
      },
      "execution_count": null,
      "outputs": []
    },
    {
      "cell_type": "code",
      "source": [
        "import matplotlib.pyplot as plt\n",
        "\n",
        "# สร้างกราฟ\n",
        "plt.figure(figsize=(10, 6))\n",
        "plt.plot(squared_residuals, label='Difference (Actual - Forecast)')\n",
        "plt.title('Difference Between Actual and Forecast')\n",
        "plt.xlabel('Time')\n",
        "plt.ylabel('Difference')\n",
        "plt.legend()\n",
        "plt.grid(True)\n",
        "plt.show()\n"
      ],
      "metadata": {
        "id": "CUD9yPSCXUub"
      },
      "execution_count": null,
      "outputs": []
    },
    {
      "cell_type": "code",
      "source": [
        "import matplotlib.pyplot as plt\n",
        "from statsmodels.graphics.tsaplots import plot_acf, plot_pacf\n",
        "\n",
        "import statsmodels.api as sm\n",
        "import pandas as pd\n",
        "\n",
        "# สร้าง subplot 2x1\n",
        "fig, axes = plt.subplots(2, 1, figsize=(10, 6))\n",
        "\n",
        "# # วาดกราฟของ 'cp_ptt' ใน subplot แรก\n",
        "# axes[0].plot(squared_residuals.index,squared_residuals, label='cp_ptt_diff')\n",
        "# axes[0].set_title('Close Price for PTT')\n",
        "# axes[0].set_xlabel('Date')\n",
        "# axes[0].set_ylabel('Close Price')\n",
        "\n",
        "# พล็อตกราฟ ACF ใน subplot ที่สอง\n",
        "sm.graphics.tsa.plot_acf(squared_residuals, lags=60, ax=axes[0])  # เปลี่ยนคอลัมน์ให้ตรงกับข้อมูลจริง\n",
        "axes[0].set_title('Autocorrelation Function (ACF) for PTT')\n",
        "axes[0].set_xlabel('Lag')\n",
        "axes[0].set_ylabel('ACF')\n",
        "\n",
        "# พล็อตกราฟ PACF ใน subplot ที่สาม\n",
        "sm.graphics.tsa.plot_pacf(squared_residuals, lags=60, ax=axes[1])\n",
        "axes[1].set_title('Partial Autocorrelation Function (PACF) for PTT')\n",
        "axes[1].set_xlabel('Lag')\n",
        "axes[1].set_ylabel('PACF')\n",
        "\n",
        "# แสดงกราฟทั้งหมด\n",
        "plt.tight_layout()\n",
        "plt.show()\n"
      ],
      "metadata": {
        "id": "8xeIr6tqqnr9"
      },
      "execution_count": null,
      "outputs": []
    },
    {
      "cell_type": "markdown",
      "source": [
        "#ลอง"
      ],
      "metadata": {
        "id": "HU4Yu6bh-1NW"
      }
    },
    {
      "cell_type": "code",
      "source": [
        "import itertools\n",
        "import pandas as pd\n",
        "import arch\n",
        "\n",
        "# สร้างรายการ p และ q ที่คุณต้องการทดลอง\n",
        "p_values = [ 1, 2]\n",
        "q_values = [0, 1, 2]\n",
        "\n",
        "# สร้างรายการเปลี่ยนแปลงค่า AIC และ BIC\n",
        "best_aic = float(\"inf\")\n",
        "best_bic = float(\"inf\")\n",
        "best_p = 0\n",
        "best_q = 0\n",
        "\n",
        "# ลูปเพื่อทดลองค่า p และ q ทุกคู่ที่เป็นไปได้\n",
        "for p in p_values:\n",
        "    for q in q_values:\n",
        "        # สร้างและฟิตโมเดล GARCH\n",
        "        model = arch.arch_model(residuals, x=train_data[['cp_wti', 'cp_ex', 'cp_xau', 'vol_ptt']],\n",
        "                                vol='Garch', p=p, q=q)\n",
        "        results = model.fit()\n",
        "\n",
        "        # คำนวณค่า AIC และ BIC\n",
        "        aic = results.aic\n",
        "        bic = results.bic\n",
        "\n",
        "        # เก็บค่าที่ดีที่สุด\n",
        "        if aic < best_aic:\n",
        "            best_aic = aic\n",
        "            best_p = p\n",
        "            best_q = q\n",
        "\n",
        "        if bic < best_bic:\n",
        "            best_bic = bic\n",
        "            best_p = p\n",
        "            best_q = q\n",
        "\n",
        "# แสดงค่า p และ q ที่ดีที่สุดตาม AIC และ BIC\n",
        "print(f\"Best AIC: {best_aic}, Best BIC: {best_bic}\")\n",
        "print(f\"Best p: {best_p}, Best q: {best_q}\")\n"
      ],
      "metadata": {
        "id": "xywwWR5ZGcOz"
      },
      "execution_count": null,
      "outputs": []
    },
    {
      "cell_type": "code",
      "source": [
        "import arch\n",
        "import pandas as pd\n",
        "import numpy as np\n",
        "import matplotlib.pyplot as plt\n",
        "\n",
        "# แบ่งข้อมูลเป็นชุดการฝึกอบรมและชุดทดสอบ\n",
        "train_size = int(len(a) * 0.8)\n",
        "train_data = a.iloc[:train_size]\n",
        "test_data = a.iloc[train_size:]\n",
        "#\n",
        "# สร้างและฟิตโมเดล GARCH(2,3) ด้วยข้อมูลการฝึกอบรม\n",
        "model_garch = arch.arch_model(residuals ,x=train_data[['cp_wti', 'cp_ex', 'cp_xau', 'vol_ptt']],\n",
        "                             vol='Garch', p=1, q=1)\n",
        "results_garch = model_garch.fit()\n",
        "\n",
        "# ใช้โมเดล GARCH ที่ฟิตแล้วเพื่อทำนายค่าความผิดพลาดสำหรับชุดทดสอบ\n",
        "predictions = results_garch.forecast(start=0, horizon=len(test_data))\n",
        "forecasted_residuals = predictions.mean.values\n",
        "\n",
        "# ปรับข้อมูลความผิดพลาดให้มีความยาวเท่ากับ test_data\n",
        "forecasted_residuals = np.resize(forecasted_residuals, len(test_data))\n",
        "\n",
        "# คำนวณค่า 'cp_ptt_diff' สำหรับชุดทดสอบ\n",
        "test_data['forecasted_cp_ptt'] = test_data['cp_ptt'].dropna().iloc[-len(test_data):] + np.cumsum(forecasted_residuals)\n",
        "import matplotlib.pyplot as plt\n",
        "\n",
        "# พล็อตกราฟข้อมูลการฝึก\n",
        "plt.figure(figsize=(12, 6))\n",
        "plt.plot(train_data.index, train_data['cp_ptt'], label='Train cp_ptt', color='green')\n",
        "\n",
        "# พล็อตกราฟข้อมูลการทดสอบ\n",
        "plt.plot(test_data.index, test_data['cp_ptt'], label='Actual cp_ptt', color='blue')\n",
        "plt.plot(test_data.index, test_data['forecasted_cp_ptt'], label='Forecasted cp_ptt', color='red')\n",
        "\n",
        "plt.xlabel('Date')\n",
        "plt.ylabel('cp_ptt')\n",
        "plt.legend()\n",
        "plt.title('Train, Actual, and Forecasted cp_ptt')\n",
        "plt.grid(True)\n",
        "plt.show()\n"
      ],
      "metadata": {
        "id": "iTM8MOCI6cCB"
      },
      "execution_count": null,
      "outputs": []
    },
    {
      "cell_type": "code",
      "source": [
        "import numpy as np\n",
        "\n",
        "# คำนวณค่า RMSE\n",
        "def calculate_rmse(actual, forecasted):\n",
        "    return np.sqrt(((actual - forecasted) ** 2).mean())\n",
        "\n",
        "# คำนวณค่า MAPE\n",
        "def calculate_mape(actual, forecasted):\n",
        "    return np.mean(np.abs((actual - forecasted) / actual)) * 100\n",
        "\n",
        "# ข้อมูล actual และ forecasted ของ cp_ptt\n",
        "actual_cp_ptt = test_data['cp_ptt']\n",
        "forecasted_cp_ptt = test_data['forecasted_cp_ptt']\n",
        "\n",
        "# คำนวณค่า RMSE และ MAPE\n",
        "rmse = calculate_rmse(actual_cp_ptt, forecasted_cp_ptt)\n",
        "mape = calculate_mape(actual_cp_ptt, forecasted_cp_ptt)\n",
        "\n",
        "print(f'RMSE: {rmse:.2f}')\n",
        "print(f'MAPE: {mape:.2f}%')\n"
      ],
      "metadata": {
        "id": "x0_Yg39c62IN"
      },
      "execution_count": null,
      "outputs": []
    },
    {
      "cell_type": "markdown",
      "source": [
        "#22"
      ],
      "metadata": {
        "id": "chgCUvAL-3eg"
      }
    },
    {
      "cell_type": "code",
      "source": [
        "!pip install arch\n",
        "from arch import arch_model\n",
        "model = arch_model(squared_residuals, vol='Garch', p=1, q=1, dist='Normal')\n",
        "results=model.fit()\n",
        "print(results.summary())\n"
      ],
      "metadata": {
        "id": "jO0brGB93JuH"
      },
      "execution_count": null,
      "outputs": []
    },
    {
      "cell_type": "code",
      "source": [
        "import pandas as pd\n",
        "import numpy as np\n",
        "import arch\n",
        "\n",
        "from statsmodels.tsa.arima.model import ARIMA\n",
        "# สร้างโมเดล ARIMA\n",
        "arima_model = ARIMA(a['cp_ptt'], order=(1, 1, 0))  # แทนค่า p, d, q ด้วยค่าที่ต้องการ\n",
        "arima_result = arima_model.fit()\n"
      ],
      "metadata": {
        "id": "OeV0_duyfCoI"
      },
      "execution_count": null,
      "outputs": []
    },
    {
      "cell_type": "code",
      "source": [
        "# สร้างโมเดล GARCH\n",
        "garch_model = arch_model(arima_result.resid, vol='Garch', p=1, q=1)\n",
        "garch_result = garch_model.fit()\n",
        "# ผสานผลลัพธ์ ARIMA และ GARCH\n",
        "arima_garch_residuals = arima_result.resid\n",
        "arima_garch_volatility = np.sqrt(garch_result.conditional_volatility)\n",
        "arima_garch_combined = arima_garch_residuals / arima_garch_volatility\n",
        "arima_garch_combined"
      ],
      "metadata": {
        "id": "Q9xewpexhHbo"
      },
      "execution_count": null,
      "outputs": []
    },
    {
      "cell_type": "code",
      "source": [
        "import matplotlib.pyplot as plt\n",
        "\n",
        "# สร้างกราฟเปรียบเทียบค่าจริงและค่าพยากรณ์\n",
        "plt.figure(figsize=(12, 6))\n",
        "plt.plot(a['cp_ptt_diff'], label='Actual Data', color='blue', alpha=0.7)\n",
        "plt.plot(arima_garch_combined, label='ARIMA-GARCH Forecast', color='red', alpha=0.7)\n",
        "plt.xlabel('Time')\n",
        "plt.ylabel('Value')\n",
        "plt.title('Actual vs ARIMA-GARCH Forecast')\n",
        "plt.legend()\n",
        "plt.grid(True)\n",
        "plt.show()\n",
        "\n"
      ],
      "metadata": {
        "id": "ZUT5saQ-himh"
      },
      "execution_count": null,
      "outputs": []
    },
    {
      "cell_type": "code",
      "source": [
        "import arch\n",
        "import pandas as pd\n",
        "import numpy as np\n",
        "\n",
        "# แบ่งข้อมูลเป็นชุดการฝึกอบรมและชุดทดสอบ\n",
        "train_size = int(len(a) * 0.8)\n",
        "train_data = a.iloc[:train_size]\n",
        "test_data = a.iloc[train_size:]\n",
        "\n",
        "# สร้างและฟิตโมเดล GARCH(2,3) ด้วยข้อมูลการฝึกอบรม\n",
        "garch_order = (2, 3)\n",
        "model_garch = arch.arch_model(train_data['cp_ptt'], x=train_data[['cp_wti', 'cp_ex', 'cp_xau', 'vol_ptt']],\n",
        "                             vol='Garch', p=garch_order[0], q=garch_order[1])\n",
        "results_garch = model_garch.fit()\n",
        "\n",
        "# ใช้โมเดล GARCH ที่ฟิตแล้วเพื่อทำนายค่าความผิดพลาดสำหรับชุดทดสอบ\n",
        "predictions = results_garch.forecast(start=0, horizon=len(test_data))\n",
        "forecasted_residuals = predictions.mean.values\n",
        "\n",
        "# ปรับข้อมูลความผิดพลาดให้มีความยาวเท่ากับ test_data\n",
        "forecasted_residuals = np.resize(forecasted_residuals, len(test_data))\n",
        "\n",
        "# คำนวณค่า 'cp_ptt_diff' สำหรับชุดทดสอบ\n",
        "test_data['forecasted_cp_ptt'] = test_data['cp_ptt'].iloc[-len(test_data):] + np.cumsum(forecasted_residuals)\n",
        "\n",
        "# แสดงชุดการทดสอบที่มีการพยากรณ์\n",
        "print(test_data[['cp_wti', 'cp_ex', 'cp_xau', 'vol_ptt']])\n"
      ],
      "metadata": {
        "id": "it4jZXCH6Gq0"
      },
      "execution_count": null,
      "outputs": []
    }
  ]
}