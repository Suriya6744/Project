{
  "nbformat": 4,
  "nbformat_minor": 0,
  "metadata": {
    "colab": {
      "private_outputs": true,
      "provenance": [],
      "toc_visible": true,
      "include_colab_link": true
    },
    "kernelspec": {
      "name": "python3",
      "display_name": "Python 3"
    },
    "language_info": {
      "name": "python"
    }
  },
  "cells": [
    {
      "cell_type": "markdown",
      "metadata": {
        "id": "view-in-github",
        "colab_type": "text"
      },
      "source": [
        "<a href=\"https://colab.research.google.com/github/Suriya6744/Project/blob/main/ARIMA_GARCH_SCG_final.ipynb\" target=\"_parent\"><img src=\"https://colab.research.google.com/assets/colab-badge.svg\" alt=\"Open In Colab\"/></a>"
      ]
    },
    {
      "cell_type": "markdown",
      "source": [
        "#Preparing Data"
      ],
      "metadata": {
        "id": "lmwBNjTQIeVD"
      }
    },
    {
      "cell_type": "code",
      "execution_count": null,
      "metadata": {
        "id": "qViOb3xXIeVE"
      },
      "outputs": [],
      "source": [
        "import pandas as pd\n",
        "\n",
        "from google.colab import drive\n",
        "drive.mount('/content/drive')"
      ]
    },
    {
      "cell_type": "markdown",
      "source": [
        "##หุ้น PTT"
      ],
      "metadata": {
        "id": "O2WQeCDgIeVE"
      }
    },
    {
      "cell_type": "code",
      "source": [
        "ptt = pd.read_csv('/content/drive/MyDrive/Project1/Project1/PTT Historical Data.csv')\n",
        "ptt.shape"
      ],
      "metadata": {
        "id": "lWQXa2-IIeVE"
      },
      "execution_count": null,
      "outputs": []
    },
    {
      "cell_type": "code",
      "source": [
        "ptt.head()"
      ],
      "metadata": {
        "id": "vO2_0r6UIeVE"
      },
      "execution_count": null,
      "outputs": []
    },
    {
      "cell_type": "code",
      "source": [
        "ptt.isnull().any()"
      ],
      "metadata": {
        "id": "z6qqEdW_IeVE"
      },
      "execution_count": null,
      "outputs": []
    },
    {
      "cell_type": "code",
      "source": [
        "#เลือกเฉพาะคอลัมน์ที่ต้องการ\n",
        "ptt=ptt[['วันเดือนปี','ล่าสุด','ปริมาณ']]\n",
        "# ptt['ปริมาณ']=ptt['ปริมาณ'].astype(str)\n",
        "\n",
        "# #แทนที่ M ด้วยช่องว่าง\n",
        "# ptt['ปริมาณ'] = ptt['ปริมาณ'].str.replace('M', '', regex=True)\n",
        "# ptt['ปริมาณ']=ptt['ปริมาณ'].astype(float)\n",
        "\n",
        "# # สร้างฟังก์ชันที่คูณค่าทุกค่าในคอลัมน์ด้วย 1,000,000\n",
        "# def multiply_by_million(value):\n",
        "#     return value * 1000000\n",
        "\n",
        "# # ใช้ .apply() เพื่อคูณค่าในคอลัมน์ 'Column1' และ 'Column2' ด้วย 1,000,000\n",
        "# ptt['ปริมาณ']=ptt['ปริมาณ'].apply(multiply_by_million)\n",
        "# ptt['ปริมาณ']=ptt['ปริมาณ'].astype(int)\n",
        "\n",
        "# ใช้ .rename() เพื่อเปลี่ยนชื่อคอลัมน์\n",
        "ptt =ptt.rename(columns={'วันเดือนปี':'date','ล่าสุด': 'cp_ptt',\n",
        "                        'ปริมาณ': 'vol_ptt'})\n",
        "ptt\n",
        "\n"
      ],
      "metadata": {
        "id": "xMgzg4wOIeVE"
      },
      "execution_count": null,
      "outputs": []
    },
    {
      "cell_type": "code",
      "source": [
        "ptt['vol_ptt']=ptt['vol_ptt'].astype(str)\n",
        "\n",
        "# #แทนที่ M ด้วยช่องว่าง\n",
        "ptt['vol_ptt'] = ptt['vol_ptt'].str.replace('M', '', regex=True)\n",
        "ptt['vol_ptt']=ptt['vol_ptt'].astype(float)\n",
        "\n",
        "# # สร้างฟังก์ชันที่คูณค่าทุกค่าในคอลัมน์ด้วย 1,000,000\n",
        "def multiply_by_million(value):\n",
        "     return value * 1000000\n",
        "\n",
        "# # ใช้ .apply() เพื่อคูณค่าในคอลัมน์ 'Column1' และ 'Column2' ด้วย 1,000,000\n",
        "ptt['vol_ptt']=ptt['vol_ptt'].apply(multiply_by_million)\n",
        "ptt['vol_ptt']=ptt['vol_ptt'].astype(int)\n",
        "ptt"
      ],
      "metadata": {
        "id": "NfrZe3esIeVF"
      },
      "execution_count": null,
      "outputs": []
    },
    {
      "cell_type": "markdown",
      "source": [
        "##หุ้น SCG"
      ],
      "metadata": {
        "id": "JfGN4uGfIeVF"
      }
    },
    {
      "cell_type": "code",
      "source": [
        "scg = pd.read_csv('/content/drive/MyDrive/Project1/Project1/SCG Historical Data.csv')\n",
        "scg.shape\n"
      ],
      "metadata": {
        "id": "vCF32tekIeVF"
      },
      "execution_count": null,
      "outputs": []
    },
    {
      "cell_type": "code",
      "source": [
        "scg.head()"
      ],
      "metadata": {
        "id": "aDAwTL47IeVF"
      },
      "execution_count": null,
      "outputs": []
    },
    {
      "cell_type": "code",
      "source": [
        "scg.isnull().any()"
      ],
      "metadata": {
        "id": "pEOGBXnHIeVF"
      },
      "execution_count": null,
      "outputs": []
    },
    {
      "cell_type": "code",
      "source": [
        "#เลือกเฉพาะคอลัมน์ที่ต้องการ\n",
        "scg=scg[['วันเดือนปี','ล่าสุด','ปริมาณ']]\n",
        "\n",
        "# แปลงค่าในคอลัมน์ 'ปริมาณ' ตามเงื่อนไข\n",
        "# scg['ปริมาณ'] = scg['ปริมาณ'].str.replace('K', 'e3').str.replace('M', 'e6').astype(float)\n",
        "# scg['ปริมาณ']=scg['ปริมาณ'].astype(int)\n",
        "\n",
        "# ใช้ .rename() เพื่อเปลี่ยนชื่อคอลัมน์\n",
        "scg=scg.rename(columns={'วันเดือนปี':'date','ล่าสุด': 'cp_scg',\n",
        "                        'ปริมาณ': 'vol_scg'})\n",
        "scg"
      ],
      "metadata": {
        "id": "KgUdwSsAIeVG"
      },
      "execution_count": null,
      "outputs": []
    },
    {
      "cell_type": "code",
      "source": [
        "scg['vol_scg'] = scg['vol_scg'].str.replace('K', 'e3').str.replace('M', 'e6').astype(float)\n",
        "scg['vol_scg']=scg['vol_scg'].astype(int)\n",
        "scg"
      ],
      "metadata": {
        "id": "g-9r7KmsIeVG"
      },
      "execution_count": null,
      "outputs": []
    },
    {
      "cell_type": "markdown",
      "source": [
        "##หุ้น SOLAR"
      ],
      "metadata": {
        "id": "sRIVASzXIeVG"
      }
    },
    {
      "cell_type": "code",
      "source": [
        "solar = pd.read_csv('/content/drive/MyDrive/Project1/Project1/SOLAR Historical Data.csv')\n",
        "solar.shape\n"
      ],
      "metadata": {
        "id": "3X2Yewu_IeVG"
      },
      "execution_count": null,
      "outputs": []
    },
    {
      "cell_type": "code",
      "source": [
        "solar.head()"
      ],
      "metadata": {
        "id": "kPZWaJHmIeVG"
      },
      "execution_count": null,
      "outputs": []
    },
    {
      "cell_type": "code",
      "source": [
        "solar.isnull().any()"
      ],
      "metadata": {
        "id": "28qhjNjQIeVG"
      },
      "execution_count": null,
      "outputs": []
    },
    {
      "cell_type": "code",
      "source": [
        "#เลือกเฉพาะคอลัมน์ที่ต้องการ\n",
        "solar=solar[['วันเดือนปี','ล่าสุด','ปริมาณ']]\n",
        "\n",
        "# แปลงค่าในคอลัมน์ 'ปริมาณ' ตามเงื่อนไข\n",
        "# solar['ปริมาณ'] = solar['ปริมาณ'].str.replace('K', 'e3').str.replace('M', 'e6').astype(float)\n",
        "# solar['ปริมาณ']=solar['ปริมาณ'].astype(int)\n",
        "\n",
        "# ใช้ .rename() เพื่อเปลี่ยนชื่อคอลัมน์\n",
        "solar=solar.rename(columns={'วันเดือนปี':'date','ล่าสุด': 'cp_solar',\n",
        "                        'ปริมาณ': 'vol_solar'})\n",
        "solar"
      ],
      "metadata": {
        "id": "X1i-ZnQnIeVH"
      },
      "execution_count": null,
      "outputs": []
    },
    {
      "cell_type": "code",
      "source": [
        "# แปลงค่าในคอลัมน์ 'ปริมาณ' ตามเงื่อนไข\n",
        "solar['vol_solar'] = solar['vol_solar'].str.replace('K', 'e3').str.replace('M', 'e6').astype(float)\n",
        "solar['vol_solar']=solar['vol_solar'].astype(int)\n",
        "solar"
      ],
      "metadata": {
        "id": "pB66URoVIeVH"
      },
      "execution_count": null,
      "outputs": []
    },
    {
      "cell_type": "markdown",
      "source": [
        "## ราคาน้ำมันดิบ (WTI)"
      ],
      "metadata": {
        "id": "wDOG2uHaIeVH"
      }
    },
    {
      "cell_type": "code",
      "source": [
        "wti = pd.read_csv('/content/drive/MyDrive/Project1/Project1/WTI_USD Historical Data.csv')\n",
        "wti.shape"
      ],
      "metadata": {
        "id": "10U0COv9IeVH"
      },
      "execution_count": null,
      "outputs": []
    },
    {
      "cell_type": "code",
      "source": [
        "wti.head()"
      ],
      "metadata": {
        "id": "-MUzoJNVIeVI"
      },
      "execution_count": null,
      "outputs": []
    },
    {
      "cell_type": "code",
      "source": [
        "wti.isnull().any()"
      ],
      "metadata": {
        "id": "B81w5PQuIeVI"
      },
      "execution_count": null,
      "outputs": []
    },
    {
      "cell_type": "code",
      "source": [
        "wti.dtypes"
      ],
      "metadata": {
        "id": "MHlv3nUnIeVI"
      },
      "execution_count": null,
      "outputs": []
    },
    {
      "cell_type": "code",
      "source": [
        "#เลือกเฉพาะคอลัมน์ที่ต้องการ\n",
        "wti=wti[['วันเดือนปี','ล่าสุด']]\n",
        "\n",
        "# ใช้ .rename() เพื่อเปลี่ยนชื่อคอลัมน์\n",
        "wti =wti .rename(columns={'วันเดือนปี':'date','ล่าสุด': 'cp_wti'})\n",
        "wti"
      ],
      "metadata": {
        "id": "sUkLTF9dIeVI"
      },
      "execution_count": null,
      "outputs": []
    },
    {
      "cell_type": "markdown",
      "source": [
        "##ราคาทองคำ (XAU)"
      ],
      "metadata": {
        "id": "xczSXwxpIeVI"
      }
    },
    {
      "cell_type": "code",
      "source": [
        "xau = pd.read_csv('/content/drive/MyDrive/Project1/Project1/XAU_USD Historical Data.csv')\n",
        "xau.shape"
      ],
      "metadata": {
        "id": "WBZg0dFiIeVJ"
      },
      "execution_count": null,
      "outputs": []
    },
    {
      "cell_type": "code",
      "source": [
        "xau.head()"
      ],
      "metadata": {
        "id": "YfuRG5nNIeVJ"
      },
      "execution_count": null,
      "outputs": []
    },
    {
      "cell_type": "code",
      "source": [
        "xau.isnull().any()"
      ],
      "metadata": {
        "id": "9FacWk_2IeVJ"
      },
      "execution_count": null,
      "outputs": []
    },
    {
      "cell_type": "code",
      "source": [
        "xau.dtypes"
      ],
      "metadata": {
        "id": "BEWdEHMMIeVJ"
      },
      "execution_count": null,
      "outputs": []
    },
    {
      "cell_type": "code",
      "source": [
        "#เลือกเฉพาะคอลัมน์ที่ต้องการ\n",
        "xau=xau[['วันเดือนปี','ล่าสุด']]\n",
        "\n",
        "# ใช้ .rename() เพื่อเปลี่ยนชื่อคอลัมน์\n",
        "xau =xau .rename(columns={'วันเดือนปี':'date','ล่าสุด': 'cp_xau'})\n",
        "xau['cp_xau'] = xau['cp_xau'].str.replace(',', '').astype(float)\n",
        "xau"
      ],
      "metadata": {
        "id": "jL-EReH5IeVJ"
      },
      "execution_count": null,
      "outputs": []
    },
    {
      "cell_type": "markdown",
      "source": [
        "##อัตราแลกเปลี่ยน (EX)"
      ],
      "metadata": {
        "id": "-AfID49yIeVK"
      }
    },
    {
      "cell_type": "code",
      "source": [
        "ex = pd.read_csv('/content/drive/MyDrive/Project1/Project1/USD_THB Historical Data.csv')\n",
        "ex.shape"
      ],
      "metadata": {
        "id": "GJ3aADO3IeVK"
      },
      "execution_count": null,
      "outputs": []
    },
    {
      "cell_type": "code",
      "source": [
        "ex.head()"
      ],
      "metadata": {
        "id": "esnEDAD1IeVK"
      },
      "execution_count": null,
      "outputs": []
    },
    {
      "cell_type": "code",
      "source": [
        "ex.isnull().any()"
      ],
      "metadata": {
        "id": "K1q5rF0mIeVK"
      },
      "execution_count": null,
      "outputs": []
    },
    {
      "cell_type": "code",
      "source": [
        "ex.dtypes"
      ],
      "metadata": {
        "id": "wy-1DzPaIeVK"
      },
      "execution_count": null,
      "outputs": []
    },
    {
      "cell_type": "code",
      "source": [
        "ex =ex .rename(columns={'วันเดือนปี':'date','ล่าสุด': 'cp_ex'})\n",
        "ex = ex[['date' ,'cp_ex']]\n",
        "ex"
      ],
      "metadata": {
        "id": "_zRO3IByIeVL"
      },
      "execution_count": null,
      "outputs": []
    },
    {
      "cell_type": "markdown",
      "source": [
        "##Date"
      ],
      "metadata": {
        "id": "8oLKQEpv-6HW"
      }
    },
    {
      "cell_type": "code",
      "source": [
        "date = pd.read_csv('/content/drive/MyDrive/Project1/Project1/date.csv')\n",
        "date"
      ],
      "metadata": {
        "id": "SDh1NL5H_FH-"
      },
      "execution_count": null,
      "outputs": []
    },
    {
      "cell_type": "code",
      "source": [
        "date = date[['date']]\n",
        "date"
      ],
      "metadata": {
        "id": "ncYIAMZm_OPM"
      },
      "execution_count": null,
      "outputs": []
    },
    {
      "cell_type": "markdown",
      "source": [
        "##Merge Table"
      ],
      "metadata": {
        "id": "s5BjohfkIeVL"
      }
    },
    {
      "cell_type": "code",
      "source": [
        "tm1 = date.merge(ptt, how ='left', left_on=['date',], right_on=['date',])\n",
        "tm2 = tm1.merge(scg, how ='left', left_on=['date',], right_on=['date',])\n",
        "tm3 = tm2.merge(solar, how ='left', left_on=['date',], right_on=['date',])\n",
        "tm4 = tm3.merge(xau, how ='left', left_on=['date',], right_on=['date',])\n",
        "tm5 = tm4.merge(ex, how ='left', left_on=['date',], right_on=['date',])\n",
        "tm7 = tm5.merge(wti, how ='left', left_on=['date',], right_on=['date',])\n",
        "all_data = tm7"
      ],
      "metadata": {
        "id": "PbiAjDK9IeVL"
      },
      "execution_count": null,
      "outputs": []
    },
    {
      "cell_type": "code",
      "source": [
        "all_data"
      ],
      "metadata": {
        "id": "MCd4_rg8_w0-"
      },
      "execution_count": null,
      "outputs": []
    },
    {
      "cell_type": "code",
      "source": [
        "all_data.isnull().any()"
      ],
      "metadata": {
        "id": "x-71AiQ-IeVM"
      },
      "execution_count": null,
      "outputs": []
    },
    {
      "cell_type": "code",
      "source": [
        "all_data['date'] = all_data['date'].str.replace('/', '-')\n",
        "all_data"
      ],
      "metadata": {
        "id": "6XvNd4jFIeVM"
      },
      "execution_count": null,
      "outputs": []
    },
    {
      "cell_type": "code",
      "source": [
        "#all_data.to_csv('Project.csv', index=False)"
      ],
      "metadata": {
        "id": "QGuhEdXcIeVM"
      },
      "execution_count": null,
      "outputs": []
    },
    {
      "cell_type": "markdown",
      "source": [
        "##แทนค่าสูญหาย"
      ],
      "metadata": {
        "id": "c4Gc8ofgIeVM"
      }
    },
    {
      "cell_type": "code",
      "source": [
        "all_data.isnull().any()"
      ],
      "metadata": {
        "id": "vdu6fLn4IeVM"
      },
      "execution_count": null,
      "outputs": []
    },
    {
      "cell_type": "code",
      "source": [
        "all_data.columns"
      ],
      "metadata": {
        "id": "_zyV97C_IeVN"
      },
      "execution_count": null,
      "outputs": []
    },
    {
      "cell_type": "code",
      "source": [
        "# ใช้ fillna() เพื่อแทนค่าว่างด้วยค่าก่อนหน้า\n",
        "all_data.fillna(method='ffill', inplace=True)\n",
        "all_data"
      ],
      "metadata": {
        "id": "ab8UxkJmIeVN"
      },
      "execution_count": null,
      "outputs": []
    },
    {
      "cell_type": "code",
      "source": [
        "all_data.isnull().any()"
      ],
      "metadata": {
        "id": "vx3-WDSKIeVN"
      },
      "execution_count": null,
      "outputs": []
    },
    {
      "cell_type": "code",
      "source": [
        "# คูณคอลัมน์ 'cp_wti' ด้วยคอลัมน์ 'cp_ex' เพื่อแปลงหน่วย USD ให้เป็น THB\n",
        "all_data['cp_wti'] = all_data['cp_wti'] * all_data['cp_ex']\n",
        "# คูณคอลัมน์ 'cp_xau ด้วยคอลัมน์ 'cp_ex' เพื่อแปลงหน่วย USD ให้เป็น THB\n",
        "all_data['cp_xau'] = all_data['cp_xau'] * all_data['cp_ex']\n",
        "all_data"
      ],
      "metadata": {
        "id": "fCeAd_IvIeVN"
      },
      "execution_count": null,
      "outputs": []
    },
    {
      "cell_type": "code",
      "source": [
        "all_data = round(all_data, 2) #ทศนิยม 2 ตำแหน่ง\n",
        "all_data"
      ],
      "metadata": {
        "id": "f32CZWHiIeVN"
      },
      "execution_count": null,
      "outputs": []
    },
    {
      "cell_type": "code",
      "source": [
        "# save data\n",
        "all_data.to_csv('Project_data_eiei.csv', index=False)"
      ],
      "metadata": {
        "id": "GBM9uWxrIeVO"
      },
      "execution_count": null,
      "outputs": []
    },
    {
      "cell_type": "code",
      "source": [
        "import pandas as pd\n",
        "import matplotlib.pyplot as plt\n",
        "\n",
        "# กำหนดสีและ alpha สำหรับแต่ละคอลัมน์\n",
        "color = ['#1f77b4', '#ff7f0e', '#2ca02c', '#d62728', '#9467bd',\n",
        "         '#8c564b', '#e377c2', '#7f7f7f', '#bcbd22', '#17becf']\n",
        "\n",
        "# สร้าง histogram สำหรับทุกคอลัมน์ที่เป็นตัวเลข\n",
        "fig, axes = plt.subplots(nrows=3, ncols=3, figsize=(15, 10))\n",
        "plt.subplots_adjust(hspace=0.5)\n",
        "\n",
        "for i, col in enumerate(all_data.columns[1:]):\n",
        "    ax = axes[i // 3, i % 3]\n",
        "    n, bins, patches = ax.hist(all_data[col], bins=10, color=color[i], alpha=0.7, edgecolor='black')\n",
        "    ax.set_title(col)\n",
        "    ax.set_xlabel('')\n",
        "    ax.grid(axis='y', alpha=0.75)\n",
        "    ax.set_axisbelow(True)\n",
        "\n",
        "    # เพิ่มเส้นแนะนำ (แบบเส้นกำกับ) สำหรับค่าเฉลี่ย\n",
        "    mean_value = all_data[col].mean()\n",
        "    ax.axvline(mean_value, color='red', linestyle='dashed', linewidth=2, label='Mean')\n",
        "    ax.legend()\n",
        "\n",
        "plt.show()"
      ],
      "metadata": {
        "id": "Cm_tYqWvIeVO"
      },
      "execution_count": null,
      "outputs": []
    },
    {
      "cell_type": "markdown",
      "source": [
        "![image.png](data:image/png;base64,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)"
      ],
      "metadata": {
        "id": "CcDRKawhIeVO"
      }
    },
    {
      "cell_type": "markdown",
      "source": [
        "## Normalization"
      ],
      "metadata": {
        "id": "8eT0nKyjIeVQ"
      }
    },
    {
      "cell_type": "code",
      "source": [
        "all_data_X = all_data[['cp_wti', 'cp_ex', 'cp_xau', 'cp_ptt', 'vol_ptt', 'cp_scg','vol_scg', 'cp_solar', 'vol_solar']]\n",
        "all_data_X"
      ],
      "metadata": {
        "id": "5ZkcQuT9IeVQ"
      },
      "execution_count": null,
      "outputs": []
    },
    {
      "cell_type": "code",
      "source": [
        "import pandas as pd\n",
        "from sklearn.preprocessing import MinMaxScaler\n",
        "\n",
        "# สร้าง object MinMaxScaler\n",
        "scaler = MinMaxScaler()\n",
        "\n",
        "# Fit และ Transform ข้อมูล\n",
        "normalized_data = scaler.fit_transform(all_data_X)\n",
        "\n",
        "# สร้าง DataFrame ใหม่จากข้อมูลที่ปรับแล้ว\n",
        "normalized_df = pd.DataFrame(normalized_data, columns=all_data_X.columns)\n",
        "\n",
        "# สร้าง DataFrame ของคอลัมน์ 'date'\n",
        "date = all_data[['date']]\n",
        "\n",
        "# รวม DataFrame ของ 'date' และ DataFrame ของข้อมูลที่แทนค่าสูญหาย\n",
        "cm_df = pd.concat([date, normalized_df], axis=1)\n",
        "cm_df\n"
      ],
      "metadata": {
        "id": "CENny_ALIeVR"
      },
      "execution_count": null,
      "outputs": []
    },
    {
      "cell_type": "code",
      "source": [
        "#หาความสัมพันธ์\n",
        "correlation_matrix = normalized_df.corr()\n",
        "correlation_matrix"
      ],
      "metadata": {
        "id": "_3WYNSnMIeVR"
      },
      "execution_count": null,
      "outputs": []
    },
    {
      "cell_type": "code",
      "source": [
        "import pandas as pd\n",
        "import matplotlib.pyplot as plt\n",
        "import seaborn as sns\n",
        "# Create a heatmap\n",
        "plt.figure(figsize=(10, 8))  # Adjust the figure size if needed\n",
        "sns.heatmap(correlation_matrix, annot=True, cmap='coolwarm', fmt=\".2f\")\n",
        "plt.title(\"Correlation Heatmap\")\n",
        "plt.show()"
      ],
      "metadata": {
        "id": "W5Wv7Q8dIeVR"
      },
      "execution_count": null,
      "outputs": []
    },
    {
      "cell_type": "code",
      "source": [
        "plt.figure(figsize=(12, 8))\n",
        "for column in normalized_df.columns:\n",
        "    plt.plot(normalized_df.index, normalized_df[column], marker='o', linestyle='-', label=column)\n",
        "\n",
        "plt.xlabel('Index')\n",
        "plt.ylabel('Value')\n",
        "plt.title('All Columns Plot')\n",
        "plt.legend(loc='upper right')\n",
        "plt.grid(True)\n",
        "plt.show()"
      ],
      "metadata": {
        "id": "KYowbg6KIeVR"
      },
      "execution_count": null,
      "outputs": []
    },
    {
      "cell_type": "markdown",
      "source": [
        "#ARIMA-GARCH (SCG)"
      ],
      "metadata": {
        "id": "FmEOWGB1yKbp"
      }
    },
    {
      "cell_type": "markdown",
      "source": [
        "##แบ่งข้อมูล"
      ],
      "metadata": {
        "id": "gxFRFOoppbv0"
      }
    },
    {
      "cell_type": "code",
      "source": [
        "# all_ptt = cm_df[['cp_ptt',\"cp_wti\",\"cp_ex\",\"cp_xau\",\"vol_ptt\"]]"
      ],
      "metadata": {
        "id": "CAhH1tVJvaGO"
      },
      "execution_count": null,
      "outputs": []
    },
    {
      "cell_type": "code",
      "source": [
        "#ใช้กับ ARIMA-GARCH\n",
        "# a_train = all_ptt.iloc[:522]\n",
        "# a_test = all_ptt.iloc[523:,:]"
      ],
      "metadata": {
        "id": "ZtymsvkGlws2"
      },
      "execution_count": null,
      "outputs": []
    },
    {
      "cell_type": "code",
      "source": [
        "#ใช้กับ ARIMA\n",
        "arima_scg  = cm_df[['cp_scg']]\n",
        "msk = (arima_scg.index < len(arima_scg) -43)\n",
        "df_train = arima_scg[msk].copy()\n",
        "df_test = arima_scg[~msk].copy()"
      ],
      "metadata": {
        "id": "G0ysZYA8r-LU"
      },
      "execution_count": null,
      "outputs": []
    },
    {
      "cell_type": "markdown",
      "source": [
        "##เช็ค Stationary"
      ],
      "metadata": {
        "id": "DU7fUHkn3YOZ"
      }
    },
    {
      "cell_type": "code",
      "source": [
        "import requests\n",
        "\n",
        "font_url = \"https://github.com/Phonbopit/sarabun-webfont/raw/master/fonts/thsarabunnew-webfont.ttf\"\n",
        "local_filename = \"thsarabunnew-webfont.ttf\"\n",
        "\n",
        "response = requests.get(font_url, stream=True)\n",
        "\n",
        "if response.status_code == 200:\n",
        "    with open(local_filename, 'wb') as file:\n",
        "        for chunk in response.iter_content(chunk_size=128):\n",
        "            file.write(chunk)\n",
        "\n",
        "    print(f\"Font downloaded successfully as {local_filename}\")\n",
        "else:\n",
        "    print(f\"Failed to download font. HTTP Status Code: {response.status_code}\")"
      ],
      "metadata": {
        "id": "9uK5iotFz-aa"
      },
      "execution_count": null,
      "outputs": []
    },
    {
      "cell_type": "code",
      "source": [
        "import matplotlib as mpl\n",
        "mpl.font_manager.fontManager.addfont('thsarabunnew-webfont.ttf')\n",
        "mpl.rc('font', family='TH Sarabun New' , size=10)"
      ],
      "metadata": {
        "id": "h0BCgn91z_k1"
      },
      "execution_count": null,
      "outputs": []
    },
    {
      "cell_type": "code",
      "source": [
        "import matplotlib.pyplot as plt\n",
        "from statsmodels.graphics.tsaplots import plot_acf\n",
        "import statsmodels.api as sm\n",
        "import pandas as pd\n",
        "\n",
        "# สร้าง subplot 2x1\n",
        "fig, axes = plt.subplots(2, 1, figsize=(10, 6))\n",
        "\n",
        "# วาดกราฟของ 'cp_ptt' ใน subplot แรก\n",
        "axes[0].plot(df_train, label='cp_scg')\n",
        "axes[0].set_title('Close Price for SCG')\n",
        "axes[0].set_xlabel('Date')\n",
        "axes[0].set_ylabel('Close Price')\n",
        "\n",
        "# พล็อตกราฟ ACF ใน subplot ที่สอง\n",
        "sm.graphics.tsa.plot_acf(df_train, lags=130, ax=axes[1], marker=' ')  # เปลี่ยนคอลัมน์ให้ตรงกับข้อมูลจริง\n",
        "axes[1].set_title('ACF ของราคาปิดหุ้น SCG')\n",
        "axes[1].set_xlabel('Lag')\n",
        "axes[1].set_ylabel('ACF')\n",
        "\n",
        "# แสดงกราฟเทียบระหว่างกราฟข้อมูลจริงกับกราฟ ACF\n",
        "plt.tight_layout()\n",
        "plt.show()\n",
        "\n"
      ],
      "metadata": {
        "id": "yPOtSjyz17ha"
      },
      "execution_count": null,
      "outputs": []
    },
    {
      "cell_type": "markdown",
      "source": [
        "###ทดสอบ ADF"
      ],
      "metadata": {
        "id": "UUfl_EvxvFoV"
      }
    },
    {
      "cell_type": "code",
      "source": [
        "import pandas as pd\n",
        "from statsmodels.tsa.stattools import adfuller\n",
        "\n",
        "\n",
        "# ทำ ADF Test\n",
        "adf_result = adfuller(df_train)\n",
        "\n",
        "# แสดงผลลัพธ์\n",
        "print(\"ADF Statistic:\", adf_result[0])\n",
        "print(\"p-value:\", adf_result[1])\n",
        "print(\"Critical Values:\", adf_result[4])\n",
        "#ค่า ADF Statistic มากกว่า Critical Values = ไม่นิ่ง"
      ],
      "metadata": {
        "id": "RdGYVf3au52F"
      },
      "execution_count": null,
      "outputs": []
    },
    {
      "cell_type": "markdown",
      "source": [
        "###Different 1"
      ],
      "metadata": {
        "id": "3RQfXVEB3q_Y"
      }
    },
    {
      "cell_type": "markdown",
      "source": [
        "###ACF_scg_diff"
      ],
      "metadata": {
        "id": "yZVYDn-V3wgv"
      }
    },
    {
      "cell_type": "code",
      "source": [
        "# ลบค่าก่อนหน้าเพื่อทำให้ข้อมูล stationary\n",
        "#ใชการแปลงอนุกรมเวลาให้มีค่าเฉลี่ยคงที่โดยหาผลต่างครั้งที่ d=1\n",
        "import numpy as np\n",
        "df_train['cp_scg_diff'] = df_train['cp_scg'].diff()\n",
        "df_train.replace(np.nan, 0, inplace=True)\n",
        "#a_train.dropna(inplace=True)  # ลบแถวที่มีค่าที่ขาดหาย"
      ],
      "metadata": {
        "id": "7v6xfScJwYN6"
      },
      "execution_count": null,
      "outputs": []
    },
    {
      "cell_type": "code",
      "source": [
        "import matplotlib.pyplot as plt\n",
        "from statsmodels.graphics.tsaplots import plot_acf\n",
        "import statsmodels.api as sm\n",
        "import pandas as pd\n",
        "\n",
        "# สร้าง subplot 2x1\n",
        "fig, axes = plt.subplots(2, 1, figsize=(10, 6))\n",
        "\n",
        "# วาดกราฟของ 'cp_ptt' ใน subplot แรก\n",
        "axes[0].plot(df_train['cp_scg_diff'], label='cp_scg_diff')\n",
        "axes[0].set_title('ผลต่างของราคาปิดหุ้น SCG ครั้งที่ 1')\n",
        "axes[0].set_xlabel('วันที่')\n",
        "axes[0].set_ylabel('ราคาปิด')\n",
        "\n",
        "# พล็อตกราฟ ACF ใน subplot ที่สอง\n",
        "sm.graphics.tsa.plot_acf(df_train['cp_scg_diff'], lags=141, ax=axes[1], marker=' ')  # เปลี่ยนคอลัมน์ให้ตรงกับข้อมูลจริง\n",
        "axes[1].set_title('ACF ของราคาปิดหุ้น SCG จากการหาผลต่างครั้งที่ 1')\n",
        "axes[1].set_xlabel('Lag')\n",
        "axes[1].set_ylabel('ACF')\n",
        "\n",
        "# แสดงกราฟเทียบระหว่างกราฟข้อมูลจริงกับกราฟ ACF\n",
        "plt.tight_layout()\n",
        "plt.show()\n"
      ],
      "metadata": {
        "id": "ajSqYgQx4SAM"
      },
      "execution_count": null,
      "outputs": []
    },
    {
      "cell_type": "code",
      "source": [
        "# ทำ ADF Test อีกครั้ง\n",
        "from statsmodels.tsa.stattools import adfuller\n",
        "adf_result = adfuller(df_train['cp_scg_diff'])\n",
        "print(\"ADF Statistic:\", adf_result[0])\n",
        "print(\"p-value:\", adf_result[1])\n",
        "print(\"Critical Values:\", adf_result[4])\n",
        "#เนื่องจากค่า ADF Statistic น้อยกว่า Critical Values แสดงว่าข้อมูลนิ่งแล้ว"
      ],
      "metadata": {
        "id": "ZD0dGJUH4Ma1"
      },
      "execution_count": null,
      "outputs": []
    },
    {
      "cell_type": "markdown",
      "source": [
        "##กำหนดตัวแบบ"
      ],
      "metadata": {
        "id": "sv5_NK0L8q1L"
      }
    },
    {
      "cell_type": "code",
      "source": [
        "import matplotlib.pyplot as plt\n",
        "from statsmodels.graphics.tsaplots import plot_acf, plot_pacf\n",
        "import statsmodels.api as sm\n",
        "import pandas as pd\n",
        "\n",
        "# สร้าง subplot 2x1\n",
        "fig, axes = plt.subplots(2, 1, figsize=(8, 6))\n",
        "\n",
        "# พล็อตกราฟ ACF ใน subplot แรก\n",
        "plot_acf(df_train['cp_scg_diff'], lags=130, ax=axes[0], marker=' ')\n",
        "axes[0].set_title('ACF Residual ของราคาปิดหุ้น SCG')\n",
        "axes[0].set_xlabel('Lag')\n",
        "axes[0].set_ylabel('ACF')\n",
        "\n",
        "# พล็อตกราฟ PACF ใน subplot ที่สอง\n",
        "plot_pacf(df_train['cp_scg_diff'], lags=130, ax=axes[1], marker=' ')\n",
        "axes[1].set_title('PACF Residual ของราคาปิดหุ้น SCG')\n",
        "axes[1].set_xlabel('Lag')\n",
        "axes[1].set_ylabel('PACF')\n",
        "\n",
        "# แสดงกราฟเทียบระหว่าง ACF และ PACF\n",
        "plt.tight_layout()\n",
        "plt.show()\n"
      ],
      "metadata": {
        "id": "quisUONLTvs4"
      },
      "execution_count": null,
      "outputs": []
    },
    {
      "cell_type": "markdown",
      "source": [
        "##ประมาณค่าพารามิเตอร์"
      ],
      "metadata": {
        "id": "q_AS7VsOAOJQ"
      }
    },
    {
      "cell_type": "code",
      "source": [
        "from statsmodels.tsa.arima.model import ARIMA\n",
        "\n",
        "# สร้างแบบจำลอง ARIMA\n",
        "model = ARIMA(df_train['cp_scg'], order=(0, 1, 3))\n",
        "# model = ARIMA(df_train['cp_scg'], order=(p,d,q),trend='t)\n",
        "# ปรับโมเดล\n",
        "results = model.fit()\n",
        "\n",
        "# ดูสรุปของโมเดล\n",
        "print(results.summary())\n"
      ],
      "metadata": {
        "id": "Dg6gil-EfHr5"
      },
      "execution_count": null,
      "outputs": []
    },
    {
      "cell_type": "code",
      "source": [
        "# forecast_test = results.forecast(len(df_test))\n",
        "# arima_ptt['fore_man'] = [None]*len(df_train)+list(forecast_test)\n",
        "# arima_ptt.plot()"
      ],
      "metadata": {
        "id": "6TrUN9TBWaVy"
      },
      "execution_count": null,
      "outputs": []
    },
    {
      "cell_type": "code",
      "source": [
        "# predictions.to_csv('predictions.csv', index=False)"
      ],
      "metadata": {
        "id": "Y8tWB8W5lUFk"
      },
      "execution_count": null,
      "outputs": []
    },
    {
      "cell_type": "markdown",
      "source": [
        "## RMSE MAPE ของ ARIMA"
      ],
      "metadata": {
        "id": "rNk5OnS6Oi7f"
      }
    },
    {
      "cell_type": "code",
      "source": [
        "#forecasting train data\n",
        "predictions = results.predict(start=0, end=len(df_train['cp_scg']) - 1)"
      ],
      "metadata": {
        "id": "czLFI-f6IX9U"
      },
      "execution_count": null,
      "outputs": []
    },
    {
      "cell_type": "code",
      "source": [
        "import pandas as pd\n",
        "arima_data = pd.DataFrame({'Actual': df_train['cp_scg'], 'Forecast': predictions})\n",
        "arima_data"
      ],
      "metadata": {
        "id": "2qhMFlMZNU-q"
      },
      "execution_count": null,
      "outputs": []
    },
    {
      "cell_type": "code",
      "source": [
        "max_original = all_data_X['cp_scg'].max()  # Max Value ของข้อมูลเดิม\n",
        "min_original = all_data_X['cp_scg'].min()  # Min Value ของข้อมูลเดิม\n",
        "\n",
        "arima_data['Actual'] = (arima_data['Actual'] * (max_original - min_original)) +min_original\n",
        "arima_data['Forecast'] = (arima_data['Forecast'] * (max_original - min_original)) + min_original\n",
        "arima_data"
      ],
      "metadata": {
        "id": "1GhSL_mcOnvX"
      },
      "execution_count": null,
      "outputs": []
    },
    {
      "cell_type": "code",
      "source": [
        "from sklearn.metrics import mean_squared_error\n",
        "from sklearn.metrics import mean_absolute_error\n",
        "mse = mean_squared_error(arima_data['Actual'], arima_data['Forecast'])\n",
        "rmse = np.sqrt(mse)\n",
        "print(f\"Root Mean Squared Error (RMSE) : {rmse:.4}\")\n",
        "\n",
        "n = len(arima_data['Actual'])\n",
        "mape = (1/n) * np.sum(np.abs((arima_data['Actual'] - arima_data['Forecast']) /arima_data['Actual'])) *100\n",
        "print(f\"Mean Absolute Percentage Error (MAPE) :{mape:.4}%\")"
      ],
      "metadata": {
        "id": "SOmgkg8-Oy6P"
      },
      "execution_count": null,
      "outputs": []
    },
    {
      "cell_type": "markdown",
      "source": [
        "##ประมาณค่า GARCH"
      ],
      "metadata": {
        "id": "fd0lP28h_jBM"
      }
    },
    {
      "cell_type": "code",
      "source": [
        "!pip install pmdarima\n",
        "!pip install arch"
      ],
      "metadata": {
        "id": "K7C9SoAWiqSx"
      },
      "execution_count": null,
      "outputs": []
    },
    {
      "cell_type": "code",
      "source": [
        "garch_x = cm_df[[\"cp_wti\",\"cp_ex\",\"cp_xau\",\"vol_scg\"]]\n",
        "garch_y = cm_df[[\"cp_scg\"]]\n",
        "\n",
        "#ใช้กับ ARIMA-GARCH\n",
        "X_train = garch_x.iloc[:522,:]\n",
        "X_test = garch_x.iloc[522:,:]\n",
        "y_train = garch_y.iloc[:522]\n",
        "y_test = garch_y.iloc[522:]\n"
      ],
      "metadata": {
        "id": "OrZzwW503KDD"
      },
      "execution_count": null,
      "outputs": []
    },
    {
      "cell_type": "markdown",
      "source": [
        "![415738238_1451742969082519_592262861615679430_n.png](data:image/png;base64,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)![416063355_695910619391647_5886887366390678057_n.png](data:image/png;base64,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)"
      ],
      "metadata": {
        "id": "W_DGJAgPonlR"
      }
    },
    {
      "cell_type": "code",
      "source": [
        "\n",
        "import numpy as np\n",
        "import pandas as pd\n",
        "from arch import arch_model\n",
        "import statsmodels.api as sm\n",
        "from statsmodels.tsa.arima.model import ARIMA\n",
        "\n",
        "#ARIMA\n",
        "arima_residuals = results.resid\n",
        "\n",
        "# สร้าง GARCH\n",
        "exog_data = X_train[['cp_ex', 'cp_xau', 'vol_scg','cp_wti']]\n",
        "garch_model = arch_model(arima_residuals, vol='Garch', p=1, q=0, x=exog_data,mean='zero')\n",
        "garch_results = garch_model.fit()\n",
        "print(garch_results.summary())"
      ],
      "metadata": {
        "id": "mhM5azMedkI0"
      },
      "execution_count": null,
      "outputs": []
    },
    {
      "cell_type": "markdown",
      "source": [
        "## RMSE MAPE ของ GARCH"
      ],
      "metadata": {
        "id": "DWbbOb6IsSzh"
      }
    },
    {
      "cell_type": "code",
      "source": [
        "import pandas as pd\n",
        "import numpy as np\n",
        "forecast_g_rmma = garch_results.forecast(horizon=len(X_train))\n",
        "forecast_g_rmma = np.sqrt(forecast_g_rmma.variance.values[-1,:])"
      ],
      "metadata": {
        "id": "eWUtfpVzsTkd"
      },
      "execution_count": null,
      "outputs": []
    },
    {
      "cell_type": "code",
      "source": [
        "forecast_g_rmma = pd.DataFrame({'ค่าจริง': df_train['cp_scg'], 'ค่าพยากรณ์': forecast_g_rmma})\n",
        "forecast_g_rmma"
      ],
      "metadata": {
        "id": "vnTewR4huXLj"
      },
      "execution_count": null,
      "outputs": []
    },
    {
      "cell_type": "code",
      "source": [
        "max_original = all_data_X['cp_scg'].max()  # Max Value ของข้อมูลเดิม\n",
        "min_original = all_data_X['cp_scg'].min()  # Min Value ของข้อมูลเดิม\n",
        "\n",
        "forecast_g_rmma['ค่าจริง'] = (forecast_g_rmma['ค่าจริง'] * (max_original - min_original)) +min_original\n",
        "forecast_g_rmma['ค่าพยากรณ์'] = (forecast_g_rmma['ค่าพยากรณ์'] * (max_original - min_original)) + min_original\n",
        "forecast_g_rmma.shape"
      ],
      "metadata": {
        "id": "9pDsb_vB0Qyv"
      },
      "execution_count": null,
      "outputs": []
    },
    {
      "cell_type": "code",
      "source": [
        "from sklearn.metrics import mean_squared_error\n",
        "from sklearn.metrics import mean_absolute_error\n",
        "mse = mean_squared_error(forecast_g_rmma['ค่าจริง'], forecast_g_rmma['ค่าพยากรณ์'])\n",
        "rmse = np.sqrt(mse)\n",
        "print(f\"Root Mean Squared Error (RMSE) : {rmse:.4}\")\n",
        "\n",
        "n = len(forecast_g_rmma['ค่าจริง'])\n",
        "mape = (1/n) * np.sum(np.abs((forecast_g_rmma['ค่าจริง'] - forecast_g_rmma['ค่าพยากรณ์']) /forecast_g_rmma['ค่าจริง'])) *100\n",
        "print(f\"Mean Absolute Percentage Error (MAPE) :{mape:.4}%\")"
      ],
      "metadata": {
        "id": "8JnNs74P0Qyw"
      },
      "execution_count": null,
      "outputs": []
    },
    {
      "cell_type": "markdown",
      "source": [
        "#ARIMA-GARCH Test"
      ],
      "metadata": {
        "id": "9EIDpmspoztp"
      }
    },
    {
      "cell_type": "code",
      "source": [
        "forecast_test = results.forecast(len(df_test))\n",
        "arima_scg['fore_man'] = [None]*len(df_train)+list(forecast_test)\n",
        "# arima_scg.plot()\n",
        "arima_scg_fore = arima_scg['fore_man'].iloc[522:]\n"
      ],
      "metadata": {
        "id": "rYp2P4EgmWlh"
      },
      "execution_count": null,
      "outputs": []
    },
    {
      "cell_type": "code",
      "source": [
        "#รวม ARIMA-GARCH\n",
        "predict = garch_results.forecast(horizon=43)\n",
        "garch_scg_fore = np.sqrt(predict.variance.values[-1,:])\n",
        "arima_garch_test = arima_scg_fore + garch_scg_fore"
      ],
      "metadata": {
        "id": "JKrF4J25odFr"
      },
      "execution_count": null,
      "outputs": []
    },
    {
      "cell_type": "code",
      "source": [
        "import matplotlib.pyplot as plt\n",
        "\n",
        "\n",
        "# พล็อตกราฟ\n",
        "plt.figure(figsize=(12, 6))\n",
        "plt.plot(arima_scg['cp_scg'], label='Actual', color='blue')\n",
        "plt.plot(arima_garch_test, label='Forecast', color='orange')\n",
        "plt.title('ARIMA-GARCH Forecast')\n",
        "plt.xlabel('Date')\n",
        "plt.ylabel('cp_scg')\n",
        "plt.legend()\n",
        "plt.show()\n"
      ],
      "metadata": {
        "id": "lZ103yo4edST"
      },
      "execution_count": null,
      "outputs": []
    },
    {
      "cell_type": "code",
      "source": [
        "import pandas as pd\n",
        "import numpy as np\n",
        "\n",
        "arima_garch_test = pd.DataFrame({'ค่าจริง': df_test['cp_scg'], 'ค่าพยากรณ์': arima_garch_test})\n",
        "arima_garch_test.head"
      ],
      "metadata": {
        "id": "nLPxC_yI0OXq"
      },
      "execution_count": null,
      "outputs": []
    },
    {
      "cell_type": "markdown",
      "source": [
        "###RMSE MAPE ของ ARIMA-GARCH Test"
      ],
      "metadata": {
        "id": "Qb7PNlcZtl0-"
      }
    },
    {
      "cell_type": "code",
      "source": [
        "max_original = all_data_X['cp_scg'].max()  # Max Value ของข้อมูลเดิม\n",
        "min_original = all_data_X['cp_scg'].min()  # Min Value ของข้อมูลเดิม\n",
        "\n",
        "arima_garch_test['ค่าจริง'] = (arima_garch_test['ค่าจริง'] * (max_original - min_original)) +min_original\n",
        "arima_garch_test['ค่าพยากรณ์'] = (arima_garch_test['ค่าพยากรณ์'] * (max_original - min_original)) + min_original\n",
        "arima_garch_test.shape"
      ],
      "metadata": {
        "id": "wuUFabk5z9YX"
      },
      "execution_count": null,
      "outputs": []
    },
    {
      "cell_type": "code",
      "source": [
        "from sklearn.metrics import mean_squared_error\n",
        "from sklearn.metrics import mean_absolute_error\n",
        "mse = mean_squared_error(arima_garch_test['ค่าจริง'], arima_garch_test['ค่าพยากรณ์'])\n",
        "rmse = np.sqrt(mse)\n",
        "print(f\"Root Mean Squared Error (RMSE) : {rmse:.4}\")\n",
        "\n",
        "n = len(arima_garch_test['ค่าจริง'])\n",
        "mape = (1/n) * np.sum(np.abs((arima_garch_test['ค่าจริง'] - arima_garch_test['ค่าพยากรณ์']) /arima_garch_test['ค่าจริง'])) *100\n",
        "print(f\"Mean Absolute Percentage Error (MAPE) :{mape:.4}%\")"
      ],
      "metadata": {
        "id": "nf8I4y_y7cZE"
      },
      "execution_count": null,
      "outputs": []
    },
    {
      "cell_type": "code",
      "source": [
        "#arima_garch_test.to_csv('arima_garch.csv', index=False)"
      ],
      "metadata": {
        "id": "P0zphtfe4plr"
      },
      "execution_count": null,
      "outputs": []
    },
    {
      "cell_type": "code",
      "source": [],
      "metadata": {
        "id": "G9tkv2lUHpH6"
      },
      "execution_count": null,
      "outputs": []
    },
    {
      "cell_type": "markdown",
      "source": [
        "#ARIMA-GARCH Train"
      ],
      "metadata": {
        "id": "iZD7M4CPttID"
      }
    },
    {
      "cell_type": "code",
      "source": [
        "forecast_g = garch_results.forecast(horizon=len(X_train))\n",
        "garch_scg_fore_g = np.sqrt(forecast_g.variance.values[-1,:])"
      ],
      "metadata": {
        "id": "k3eQCUlhtcER"
      },
      "execution_count": null,
      "outputs": []
    },
    {
      "cell_type": "code",
      "source": [
        "#รวม ARIMA-GARCH\n",
        "\n",
        "arima_garch_train = predictions + garch_scg_fore_g"
      ],
      "metadata": {
        "id": "71gyQN_f0fc8"
      },
      "execution_count": null,
      "outputs": []
    },
    {
      "cell_type": "code",
      "source": [
        "import matplotlib.pyplot as plt\n",
        "\n",
        "\n",
        "# พล็อตกราฟ\n",
        "plt.figure(figsize=(12, 6))\n",
        "plt.plot(arima_scg['cp_scg'], label='Actual', color='blue')\n",
        "plt.plot(arima_garch_train, label='Forecast', color='orange')\n",
        "plt.title('ARIMA-GARCH Forecast')\n",
        "plt.xlabel('Date')\n",
        "plt.ylabel('cp_scg')\n",
        "plt.legend()\n",
        "plt.show()"
      ],
      "metadata": {
        "id": "NgclkvduuGbQ"
      },
      "execution_count": null,
      "outputs": []
    },
    {
      "cell_type": "code",
      "source": [
        "import pandas as pd\n",
        "import numpy as np\n",
        "\n",
        "arima_garch_train = pd.DataFrame({'ค่าจริง': df_train['cp_scg'], 'ค่าพยากรณ์': arima_garch_train})\n",
        "arima_garch_train.head"
      ],
      "metadata": {
        "id": "8nmxescP6L3u"
      },
      "execution_count": null,
      "outputs": []
    },
    {
      "cell_type": "markdown",
      "source": [
        "###RMSE MAPE ของ ARIMA-GARCH Train"
      ],
      "metadata": {
        "id": "QW7guGsd6udS"
      }
    },
    {
      "cell_type": "code",
      "source": [
        "max_original = all_data_X['cp_scg'].max()  # Max Value ของข้อมูลเดิม\n",
        "min_original = all_data_X['cp_scg'].min()  # Min Value ของข้อมูลเดิม\n",
        "\n",
        "arima_garch_train['ค่าจริง'] = (arima_garch_train['ค่าจริง'] * (max_original - min_original)) +min_original\n",
        "arima_garch_train['ค่าพยากรณ์'] = (arima_garch_train['ค่าพยากรณ์'] * (max_original - min_original)) + min_original\n",
        "arima_garch_train.shape"
      ],
      "metadata": {
        "id": "CdFMpCvt6udT"
      },
      "execution_count": null,
      "outputs": []
    },
    {
      "cell_type": "code",
      "source": [
        "from sklearn.metrics import mean_squared_error\n",
        "from sklearn.metrics import mean_absolute_error\n",
        "mse = mean_squared_error(arima_garch_train['ค่าจริง'], arima_garch_train['ค่าพยากรณ์'])\n",
        "rmse = np.sqrt(mse)\n",
        "print(f\"Root Mean Squared Error (RMSE) : {rmse:.4}\")\n",
        "\n",
        "n = len(arima_garch_train['ค่าจริง'])\n",
        "mape = (1/n) * np.sum(np.abs((arima_garch_train['ค่าจริง'] - arima_garch_train['ค่าพยากรณ์']) /arima_garch_train['ค่าจริง'])) *100\n",
        "print(f\"Mean Absolute Percentage Error (MAPE) :{mape:.4}%\")"
      ],
      "metadata": {
        "id": "bkTvlv0g6udU"
      },
      "execution_count": null,
      "outputs": []
    }
  ]
}