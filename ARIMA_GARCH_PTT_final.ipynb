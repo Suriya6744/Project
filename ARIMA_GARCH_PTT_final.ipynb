{
  "nbformat": 4,
  "nbformat_minor": 0,
  "metadata": {
    "colab": {
      "private_outputs": true,
      "provenance": [],
      "toc_visible": true,
      "include_colab_link": true
    },
    "kernelspec": {
      "name": "python3",
      "display_name": "Python 3"
    },
    "language_info": {
      "name": "python"
    }
  },
  "cells": [
    {
      "cell_type": "markdown",
      "metadata": {
        "id": "view-in-github",
        "colab_type": "text"
      },
      "source": [
        "<a href=\"https://colab.research.google.com/github/Suriya6744/Project/blob/main/ARIMA_GARCH_PTT_final.ipynb\" target=\"_parent\"><img src=\"https://colab.research.google.com/assets/colab-badge.svg\" alt=\"Open In Colab\"/></a>"
      ]
    },
    {
      "cell_type": "markdown",
      "source": [
        "#Preparing Data"
      ],
      "metadata": {
        "id": "lmwBNjTQIeVD"
      }
    },
    {
      "cell_type": "code",
      "execution_count": null,
      "metadata": {
        "id": "qViOb3xXIeVE"
      },
      "outputs": [],
      "source": [
        "import pandas as pd\n",
        "\n",
        "from google.colab import drive\n",
        "drive.mount('/content/drive')"
      ]
    },
    {
      "cell_type": "markdown",
      "source": [
        "##หุ้น PTT"
      ],
      "metadata": {
        "id": "O2WQeCDgIeVE"
      }
    },
    {
      "cell_type": "code",
      "source": [
        "ptt = pd.read_csv('/content/drive/MyDrive/Project1/Project1/PTT Historical Data.csv')\n",
        "ptt.shape"
      ],
      "metadata": {
        "id": "lWQXa2-IIeVE"
      },
      "execution_count": null,
      "outputs": []
    },
    {
      "cell_type": "code",
      "source": [
        "ptt.head()"
      ],
      "metadata": {
        "id": "vO2_0r6UIeVE"
      },
      "execution_count": null,
      "outputs": []
    },
    {
      "cell_type": "code",
      "source": [
        "ptt.isnull().any()"
      ],
      "metadata": {
        "id": "z6qqEdW_IeVE"
      },
      "execution_count": null,
      "outputs": []
    },
    {
      "cell_type": "code",
      "source": [
        "#เลือกเฉพาะคอลัมน์ที่ต้องการ\n",
        "ptt=ptt[['วันเดือนปี','ล่าสุด','ปริมาณ']]\n",
        "# ptt['ปริมาณ']=ptt['ปริมาณ'].astype(str)\n",
        "\n",
        "# #แทนที่ M ด้วยช่องว่าง\n",
        "# ptt['ปริมาณ'] = ptt['ปริมาณ'].str.replace('M', '', regex=True)\n",
        "# ptt['ปริมาณ']=ptt['ปริมาณ'].astype(float)\n",
        "\n",
        "# # สร้างฟังก์ชันที่คูณค่าทุกค่าในคอลัมน์ด้วย 1,000,000\n",
        "# def multiply_by_million(value):\n",
        "#     return value * 1000000\n",
        "\n",
        "# # ใช้ .apply() เพื่อคูณค่าในคอลัมน์ 'Column1' และ 'Column2' ด้วย 1,000,000\n",
        "# ptt['ปริมาณ']=ptt['ปริมาณ'].apply(multiply_by_million)\n",
        "# ptt['ปริมาณ']=ptt['ปริมาณ'].astype(int)\n",
        "\n",
        "# ใช้ .rename() เพื่อเปลี่ยนชื่อคอลัมน์\n",
        "ptt =ptt.rename(columns={'วันเดือนปี':'date','ล่าสุด': 'cp_ptt',\n",
        "                        'ปริมาณ': 'vol_ptt'})\n",
        "ptt\n",
        "\n"
      ],
      "metadata": {
        "id": "xMgzg4wOIeVE"
      },
      "execution_count": null,
      "outputs": []
    },
    {
      "cell_type": "code",
      "source": [
        "ptt['vol_ptt']=ptt['vol_ptt'].astype(str)\n",
        "\n",
        "# #แทนที่ M ด้วยช่องว่าง\n",
        "ptt['vol_ptt'] = ptt['vol_ptt'].str.replace('M', '', regex=True)\n",
        "ptt['vol_ptt']=ptt['vol_ptt'].astype(float)\n",
        "\n",
        "# # สร้างฟังก์ชันที่คูณค่าทุกค่าในคอลัมน์ด้วย 1,000,000\n",
        "def multiply_by_million(value):\n",
        "     return value * 1000000\n",
        "\n",
        "# # ใช้ .apply() เพื่อคูณค่าในคอลัมน์ 'Column1' และ 'Column2' ด้วย 1,000,000\n",
        "ptt['vol_ptt']=ptt['vol_ptt'].apply(multiply_by_million)\n",
        "ptt['vol_ptt']=ptt['vol_ptt'].astype(int)\n",
        "ptt"
      ],
      "metadata": {
        "id": "NfrZe3esIeVF"
      },
      "execution_count": null,
      "outputs": []
    },
    {
      "cell_type": "markdown",
      "source": [
        "##หุ้น SCG"
      ],
      "metadata": {
        "id": "JfGN4uGfIeVF"
      }
    },
    {
      "cell_type": "code",
      "source": [
        "scg = pd.read_csv('/content/drive/MyDrive/Project1/Project1/SCG Historical Data.csv')\n",
        "scg.shape\n"
      ],
      "metadata": {
        "id": "vCF32tekIeVF"
      },
      "execution_count": null,
      "outputs": []
    },
    {
      "cell_type": "code",
      "source": [
        "scg.head()"
      ],
      "metadata": {
        "id": "aDAwTL47IeVF"
      },
      "execution_count": null,
      "outputs": []
    },
    {
      "cell_type": "code",
      "source": [
        "scg.isnull().any()"
      ],
      "metadata": {
        "id": "pEOGBXnHIeVF"
      },
      "execution_count": null,
      "outputs": []
    },
    {
      "cell_type": "code",
      "source": [
        "#เลือกเฉพาะคอลัมน์ที่ต้องการ\n",
        "scg=scg[['วันเดือนปี','ล่าสุด','ปริมาณ']]\n",
        "\n",
        "# แปลงค่าในคอลัมน์ 'ปริมาณ' ตามเงื่อนไข\n",
        "# scg['ปริมาณ'] = scg['ปริมาณ'].str.replace('K', 'e3').str.replace('M', 'e6').astype(float)\n",
        "# scg['ปริมาณ']=scg['ปริมาณ'].astype(int)\n",
        "\n",
        "# ใช้ .rename() เพื่อเปลี่ยนชื่อคอลัมน์\n",
        "scg=scg.rename(columns={'วันเดือนปี':'date','ล่าสุด': 'cp_scg',\n",
        "                        'ปริมาณ': 'vol_scg'})\n",
        "scg"
      ],
      "metadata": {
        "id": "KgUdwSsAIeVG"
      },
      "execution_count": null,
      "outputs": []
    },
    {
      "cell_type": "code",
      "source": [
        "scg['vol_scg'] = scg['vol_scg'].str.replace('K', 'e3').str.replace('M', 'e6').astype(float)\n",
        "scg['vol_scg']=scg['vol_scg'].astype(int)\n",
        "scg"
      ],
      "metadata": {
        "id": "g-9r7KmsIeVG"
      },
      "execution_count": null,
      "outputs": []
    },
    {
      "cell_type": "markdown",
      "source": [
        "##หุ้น SOLAR"
      ],
      "metadata": {
        "id": "sRIVASzXIeVG"
      }
    },
    {
      "cell_type": "code",
      "source": [
        "solar = pd.read_csv('/content/drive/MyDrive/Project1/Project1/SOLAR Historical Data.csv')\n",
        "solar.shape\n"
      ],
      "metadata": {
        "id": "3X2Yewu_IeVG"
      },
      "execution_count": null,
      "outputs": []
    },
    {
      "cell_type": "code",
      "source": [
        "solar.head()"
      ],
      "metadata": {
        "id": "kPZWaJHmIeVG"
      },
      "execution_count": null,
      "outputs": []
    },
    {
      "cell_type": "code",
      "source": [
        "solar.isnull().any()"
      ],
      "metadata": {
        "id": "28qhjNjQIeVG"
      },
      "execution_count": null,
      "outputs": []
    },
    {
      "cell_type": "code",
      "source": [
        "#เลือกเฉพาะคอลัมน์ที่ต้องการ\n",
        "solar=solar[['วันเดือนปี','ล่าสุด','ปริมาณ']]\n",
        "\n",
        "# แปลงค่าในคอลัมน์ 'ปริมาณ' ตามเงื่อนไข\n",
        "# solar['ปริมาณ'] = solar['ปริมาณ'].str.replace('K', 'e3').str.replace('M', 'e6').astype(float)\n",
        "# solar['ปริมาณ']=solar['ปริมาณ'].astype(int)\n",
        "\n",
        "# ใช้ .rename() เพื่อเปลี่ยนชื่อคอลัมน์\n",
        "solar=solar.rename(columns={'วันเดือนปี':'date','ล่าสุด': 'cp_solar',\n",
        "                        'ปริมาณ': 'vol_solar'})\n",
        "solar"
      ],
      "metadata": {
        "id": "X1i-ZnQnIeVH"
      },
      "execution_count": null,
      "outputs": []
    },
    {
      "cell_type": "code",
      "source": [
        "# แปลงค่าในคอลัมน์ 'ปริมาณ' ตามเงื่อนไข\n",
        "solar['vol_solar'] = solar['vol_solar'].str.replace('K', 'e3').str.replace('M', 'e6').astype(float)\n",
        "solar['vol_solar']=solar['vol_solar'].astype(int)\n",
        "solar"
      ],
      "metadata": {
        "id": "pB66URoVIeVH"
      },
      "execution_count": null,
      "outputs": []
    },
    {
      "cell_type": "markdown",
      "source": [
        "## ราคาน้ำมันดิบ (WTI)"
      ],
      "metadata": {
        "id": "wDOG2uHaIeVH"
      }
    },
    {
      "cell_type": "code",
      "source": [
        "wti = pd.read_csv('/content/drive/MyDrive/Project1/Project1/WTI_USD Historical Data.csv')\n",
        "wti.shape"
      ],
      "metadata": {
        "id": "10U0COv9IeVH"
      },
      "execution_count": null,
      "outputs": []
    },
    {
      "cell_type": "code",
      "source": [
        "wti.head()"
      ],
      "metadata": {
        "id": "-MUzoJNVIeVI"
      },
      "execution_count": null,
      "outputs": []
    },
    {
      "cell_type": "code",
      "source": [
        "wti.isnull().any()"
      ],
      "metadata": {
        "id": "B81w5PQuIeVI"
      },
      "execution_count": null,
      "outputs": []
    },
    {
      "cell_type": "code",
      "source": [
        "wti.dtypes"
      ],
      "metadata": {
        "id": "MHlv3nUnIeVI"
      },
      "execution_count": null,
      "outputs": []
    },
    {
      "cell_type": "code",
      "source": [
        "#เลือกเฉพาะคอลัมน์ที่ต้องการ\n",
        "wti=wti[['วันเดือนปี','ล่าสุด']]\n",
        "\n",
        "# ใช้ .rename() เพื่อเปลี่ยนชื่อคอลัมน์\n",
        "wti =wti .rename(columns={'วันเดือนปี':'date','ล่าสุด': 'cp_wti'})\n",
        "wti"
      ],
      "metadata": {
        "id": "sUkLTF9dIeVI"
      },
      "execution_count": null,
      "outputs": []
    },
    {
      "cell_type": "markdown",
      "source": [
        "##ราคาทองคำ (XAU)"
      ],
      "metadata": {
        "id": "xczSXwxpIeVI"
      }
    },
    {
      "cell_type": "code",
      "source": [
        "xau = pd.read_csv('/content/drive/MyDrive/Project1/Project1/XAU_USD Historical Data.csv')\n",
        "xau.shape"
      ],
      "metadata": {
        "id": "WBZg0dFiIeVJ"
      },
      "execution_count": null,
      "outputs": []
    },
    {
      "cell_type": "code",
      "source": [
        "xau.head()"
      ],
      "metadata": {
        "id": "YfuRG5nNIeVJ"
      },
      "execution_count": null,
      "outputs": []
    },
    {
      "cell_type": "code",
      "source": [
        "xau.isnull().any()"
      ],
      "metadata": {
        "id": "9FacWk_2IeVJ"
      },
      "execution_count": null,
      "outputs": []
    },
    {
      "cell_type": "code",
      "source": [
        "xau.dtypes"
      ],
      "metadata": {
        "id": "BEWdEHMMIeVJ"
      },
      "execution_count": null,
      "outputs": []
    },
    {
      "cell_type": "code",
      "source": [
        "#เลือกเฉพาะคอลัมน์ที่ต้องการ\n",
        "xau=xau[['วันเดือนปี','ล่าสุด']]\n",
        "\n",
        "# ใช้ .rename() เพื่อเปลี่ยนชื่อคอลัมน์\n",
        "xau =xau .rename(columns={'วันเดือนปี':'date','ล่าสุด': 'cp_xau'})\n",
        "xau['cp_xau'] = xau['cp_xau'].str.replace(',', '').astype(float)\n",
        "xau"
      ],
      "metadata": {
        "id": "jL-EReH5IeVJ"
      },
      "execution_count": null,
      "outputs": []
    },
    {
      "cell_type": "markdown",
      "source": [
        "##อัตราแลกเปลี่ยน (EX)"
      ],
      "metadata": {
        "id": "-AfID49yIeVK"
      }
    },
    {
      "cell_type": "code",
      "source": [
        "ex = pd.read_csv('/content/drive/MyDrive/Project1/Project1/USD_THB Historical Data.csv')\n",
        "ex.shape"
      ],
      "metadata": {
        "id": "GJ3aADO3IeVK"
      },
      "execution_count": null,
      "outputs": []
    },
    {
      "cell_type": "code",
      "source": [
        "ex.head()"
      ],
      "metadata": {
        "id": "esnEDAD1IeVK"
      },
      "execution_count": null,
      "outputs": []
    },
    {
      "cell_type": "code",
      "source": [
        "ex.isnull().any()"
      ],
      "metadata": {
        "id": "K1q5rF0mIeVK"
      },
      "execution_count": null,
      "outputs": []
    },
    {
      "cell_type": "code",
      "source": [
        "ex.dtypes"
      ],
      "metadata": {
        "id": "wy-1DzPaIeVK"
      },
      "execution_count": null,
      "outputs": []
    },
    {
      "cell_type": "code",
      "source": [
        "ex =ex .rename(columns={'วันเดือนปี':'date','ล่าสุด': 'cp_ex'})\n",
        "ex = ex[['date' ,'cp_ex']]\n",
        "ex"
      ],
      "metadata": {
        "id": "_zRO3IByIeVL"
      },
      "execution_count": null,
      "outputs": []
    },
    {
      "cell_type": "markdown",
      "source": [
        "##Date"
      ],
      "metadata": {
        "id": "8oLKQEpv-6HW"
      }
    },
    {
      "cell_type": "code",
      "source": [
        "date = pd.read_csv('/content/drive/MyDrive/Project1/Project1/date.csv')\n",
        "date"
      ],
      "metadata": {
        "id": "SDh1NL5H_FH-"
      },
      "execution_count": null,
      "outputs": []
    },
    {
      "cell_type": "code",
      "source": [
        "date = date[['date']]\n",
        "date"
      ],
      "metadata": {
        "id": "ncYIAMZm_OPM"
      },
      "execution_count": null,
      "outputs": []
    },
    {
      "cell_type": "markdown",
      "source": [
        "##Merge Table"
      ],
      "metadata": {
        "id": "s5BjohfkIeVL"
      }
    },
    {
      "cell_type": "code",
      "source": [
        "tm1 = date.merge(ptt, how ='left', left_on=['date',], right_on=['date',])\n",
        "tm2 = tm1.merge(scg, how ='left', left_on=['date',], right_on=['date',])\n",
        "tm3 = tm2.merge(solar, how ='left', left_on=['date',], right_on=['date',])\n",
        "tm4 = tm3.merge(xau, how ='left', left_on=['date',], right_on=['date',])\n",
        "tm5 = tm4.merge(ex, how ='left', left_on=['date',], right_on=['date',])\n",
        "tm7 = tm5.merge(wti, how ='left', left_on=['date',], right_on=['date',])\n",
        "all_data = tm7"
      ],
      "metadata": {
        "id": "PbiAjDK9IeVL"
      },
      "execution_count": null,
      "outputs": []
    },
    {
      "cell_type": "code",
      "source": [
        "all_data"
      ],
      "metadata": {
        "id": "MCd4_rg8_w0-"
      },
      "execution_count": null,
      "outputs": []
    },
    {
      "cell_type": "code",
      "source": [
        "all_data.isnull().any()"
      ],
      "metadata": {
        "id": "x-71AiQ-IeVM"
      },
      "execution_count": null,
      "outputs": []
    },
    {
      "cell_type": "code",
      "source": [
        "all_data['date'] = all_data['date'].str.replace('/', '-')\n",
        "all_data"
      ],
      "metadata": {
        "id": "6XvNd4jFIeVM"
      },
      "execution_count": null,
      "outputs": []
    },
    {
      "cell_type": "code",
      "source": [
        "#all_data.to_csv('Project.csv', index=False)"
      ],
      "metadata": {
        "id": "QGuhEdXcIeVM"
      },
      "execution_count": null,
      "outputs": []
    },
    {
      "cell_type": "markdown",
      "source": [
        "##แทนค่าสูญหาย"
      ],
      "metadata": {
        "id": "c4Gc8ofgIeVM"
      }
    },
    {
      "cell_type": "code",
      "source": [
        "all_data.isnull().any()"
      ],
      "metadata": {
        "id": "vdu6fLn4IeVM"
      },
      "execution_count": null,
      "outputs": []
    },
    {
      "cell_type": "code",
      "source": [
        "all_data.columns"
      ],
      "metadata": {
        "id": "_zyV97C_IeVN"
      },
      "execution_count": null,
      "outputs": []
    },
    {
      "cell_type": "code",
      "source": [
        "# ใช้ fillna() เพื่อแทนค่าว่างด้วยค่าก่อนหน้า\n",
        "all_data.fillna(method='ffill', inplace=True)\n",
        "all_data"
      ],
      "metadata": {
        "id": "ab8UxkJmIeVN"
      },
      "execution_count": null,
      "outputs": []
    },
    {
      "cell_type": "code",
      "source": [
        "all_data.isnull().any()"
      ],
      "metadata": {
        "id": "vx3-WDSKIeVN"
      },
      "execution_count": null,
      "outputs": []
    },
    {
      "cell_type": "code",
      "source": [
        "# คูณคอลัมน์ 'cp_wti' ด้วยคอลัมน์ 'cp_ex' เพื่อแปลงหน่วย USD ให้เป็น THB\n",
        "all_data['cp_wti'] = all_data['cp_wti'] * all_data['cp_ex']\n",
        "# คูณคอลัมน์ 'cp_xau ด้วยคอลัมน์ 'cp_ex' เพื่อแปลงหน่วย USD ให้เป็น THB\n",
        "all_data['cp_xau'] = all_data['cp_xau'] * all_data['cp_ex']\n",
        "all_data"
      ],
      "metadata": {
        "id": "fCeAd_IvIeVN"
      },
      "execution_count": null,
      "outputs": []
    },
    {
      "cell_type": "code",
      "source": [
        "all_data = round(all_data, 2) #ทศนิยม 2 ตำแหน่ง\n",
        "all_data"
      ],
      "metadata": {
        "id": "f32CZWHiIeVN"
      },
      "execution_count": null,
      "outputs": []
    },
    {
      "cell_type": "code",
      "source": [
        "# save data\n",
        "all_data.to_csv('Project_data_eiei.csv', index=False)"
      ],
      "metadata": {
        "id": "GBM9uWxrIeVO"
      },
      "execution_count": null,
      "outputs": []
    },
    {
      "cell_type": "code",
      "source": [
        "import pandas as pd\n",
        "import matplotlib.pyplot as plt\n",
        "\n",
        "# กำหนดสีและ alpha สำหรับแต่ละคอลัมน์\n",
        "color = ['#1f77b4', '#ff7f0e', '#2ca02c', '#d62728', '#9467bd',\n",
        "         '#8c564b', '#e377c2', '#7f7f7f', '#bcbd22', '#17becf']\n",
        "\n",
        "# สร้าง histogram สำหรับทุกคอลัมน์ที่เป็นตัวเลข\n",
        "fig, axes = plt.subplots(nrows=3, ncols=3, figsize=(15, 10))\n",
        "plt.subplots_adjust(hspace=0.5)\n",
        "\n",
        "for i, col in enumerate(all_data.columns[1:]):\n",
        "    ax = axes[i // 3, i % 3]\n",
        "    n, bins, patches = ax.hist(all_data[col], bins=10, color=color[i], alpha=0.7, edgecolor='black')\n",
        "    ax.set_title(col)\n",
        "    ax.set_xlabel('')\n",
        "    ax.grid(axis='y', alpha=0.75)\n",
        "    ax.set_axisbelow(True)\n",
        "\n",
        "    # เพิ่มเส้นแนะนำ (แบบเส้นกำกับ) สำหรับค่าเฉลี่ย\n",
        "    mean_value = all_data[col].mean()\n",
        "    ax.axvline(mean_value, color='red', linestyle='dashed', linewidth=2, label='Mean')\n",
        "    ax.legend()\n",
        "\n",
        "plt.show()"
      ],
      "metadata": {
        "id": "Cm_tYqWvIeVO"
      },
      "execution_count": null,
      "outputs": []
    },
    {
      "cell_type": "markdown",
      "source": [
        "![image.png](data:image/png;base64,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)"
      ],
      "metadata": {
        "id": "CcDRKawhIeVO"
      }
    },
    {
      "cell_type": "markdown",
      "source": [
        "## Normalization"
      ],
      "metadata": {
        "id": "8eT0nKyjIeVQ"
      }
    },
    {
      "cell_type": "code",
      "source": [
        "all_data_X = all_data[['cp_wti', 'cp_ex', 'cp_xau', 'cp_ptt', 'vol_ptt', 'cp_scg','vol_scg', 'cp_solar', 'vol_solar']]\n",
        "all_data_X"
      ],
      "metadata": {
        "id": "5ZkcQuT9IeVQ"
      },
      "execution_count": null,
      "outputs": []
    },
    {
      "cell_type": "code",
      "source": [
        "import pandas as pd\n",
        "from sklearn.preprocessing import MinMaxScaler\n",
        "\n",
        "# สร้าง object MinMaxScaler\n",
        "scaler = MinMaxScaler()\n",
        "\n",
        "# Fit และ Transform ข้อมูล\n",
        "normalized_data = scaler.fit_transform(all_data_X)\n",
        "\n",
        "# สร้าง DataFrame ใหม่จากข้อมูลที่ปรับแล้ว\n",
        "normalized_df = pd.DataFrame(normalized_data, columns=all_data_X.columns)\n",
        "\n",
        "# สร้าง DataFrame ของคอลัมน์ 'date'\n",
        "date = all_data[['date']]\n",
        "\n",
        "# รวม DataFrame ของ 'date' และ DataFrame ของข้อมูลที่แทนค่าสูญหาย\n",
        "cm_df = pd.concat([date, normalized_df], axis=1)\n",
        "cm_df\n"
      ],
      "metadata": {
        "id": "CENny_ALIeVR"
      },
      "execution_count": null,
      "outputs": []
    },
    {
      "cell_type": "code",
      "source": [
        "#หาความสัมพันธ์\n",
        "correlation_matrix = normalized_df.corr()\n",
        "correlation_matrix"
      ],
      "metadata": {
        "id": "_3WYNSnMIeVR"
      },
      "execution_count": null,
      "outputs": []
    },
    {
      "cell_type": "code",
      "source": [
        "import pandas as pd\n",
        "import matplotlib.pyplot as plt\n",
        "import seaborn as sns\n",
        "# Create a heatmap\n",
        "plt.figure(figsize=(10, 8))  # Adjust the figure size if needed\n",
        "sns.heatmap(correlation_matrix, annot=True, cmap='coolwarm', fmt=\".2f\")\n",
        "plt.title(\"Correlation Heatmap\")\n",
        "plt.show()"
      ],
      "metadata": {
        "id": "W5Wv7Q8dIeVR"
      },
      "execution_count": null,
      "outputs": []
    },
    {
      "cell_type": "code",
      "source": [
        "plt.figure(figsize=(12, 8))\n",
        "for column in normalized_df.columns:\n",
        "    plt.plot(normalized_df.index, normalized_df[column], marker='o', linestyle='-', label=column)\n",
        "\n",
        "plt.xlabel('Index')\n",
        "plt.ylabel('Value')\n",
        "plt.title('All Columns Plot')\n",
        "plt.legend(loc='upper right')\n",
        "plt.grid(True)\n",
        "plt.show()"
      ],
      "metadata": {
        "id": "KYowbg6KIeVR"
      },
      "execution_count": null,
      "outputs": []
    },
    {
      "cell_type": "code",
      "source": [
        "#cm_df.to_csv('Project_data_Nm.csv', index=False)"
      ],
      "metadata": {
        "id": "-IHKuOaiD96i"
      },
      "execution_count": null,
      "outputs": []
    },
    {
      "cell_type": "markdown",
      "source": [
        "#ARIMA-GARCH (PTT)"
      ],
      "metadata": {
        "id": "FmEOWGB1yKbp"
      }
    },
    {
      "cell_type": "markdown",
      "source": [
        "##แบ่งข้อมูล"
      ],
      "metadata": {
        "id": "gxFRFOoppbv0"
      }
    },
    {
      "cell_type": "code",
      "source": [
        "# all_ptt = cm_df[['cp_ptt',\"cp_wti\",\"cp_ex\",\"cp_xau\",\"vol_ptt\"]]"
      ],
      "metadata": {
        "id": "CAhH1tVJvaGO"
      },
      "execution_count": null,
      "outputs": []
    },
    {
      "cell_type": "code",
      "source": [
        "#ใช้กับ ARIMA-GARCH\n",
        "# a_train = all_ptt.iloc[:522]\n",
        "# a_test = all_ptt.iloc[523:,:]"
      ],
      "metadata": {
        "id": "ZtymsvkGlws2"
      },
      "execution_count": null,
      "outputs": []
    },
    {
      "cell_type": "code",
      "source": [
        "#ใช้กับ ARIMA\n",
        "arima_ptt  = cm_df[['cp_ptt']]\n",
        "msk = (arima_ptt.index < len(arima_ptt) -43)\n",
        "df_train = arima_ptt[msk].copy()\n",
        "df_test = arima_ptt[~msk].copy()"
      ],
      "metadata": {
        "id": "G0ysZYA8r-LU"
      },
      "execution_count": null,
      "outputs": []
    },
    {
      "cell_type": "markdown",
      "source": [
        "##เช็ค Stationary"
      ],
      "metadata": {
        "id": "DU7fUHkn3YOZ"
      }
    },
    {
      "cell_type": "code",
      "source": [
        "import requests\n",
        "\n",
        "font_url = \"https://github.com/Phonbopit/sarabun-webfont/raw/master/fonts/thsarabunnew-webfont.ttf\"\n",
        "local_filename = \"thsarabunnew-webfont.ttf\"\n",
        "\n",
        "response = requests.get(font_url, stream=True)\n",
        "\n",
        "if response.status_code == 200:\n",
        "    with open(local_filename, 'wb') as file:\n",
        "        for chunk in response.iter_content(chunk_size=128):\n",
        "            file.write(chunk)\n",
        "\n",
        "    print(f\"Font downloaded successfully as {local_filename}\")\n",
        "else:\n",
        "    print(f\"Failed to download font. HTTP Status Code: {response.status_code}\")"
      ],
      "metadata": {
        "id": "9uK5iotFz-aa"
      },
      "execution_count": null,
      "outputs": []
    },
    {
      "cell_type": "code",
      "source": [
        "import matplotlib as mpl\n",
        "mpl.font_manager.fontManager.addfont('thsarabunnew-webfont.ttf')\n",
        "mpl.rc('font', family='TH Sarabun New' , size=10)"
      ],
      "metadata": {
        "id": "h0BCgn91z_k1"
      },
      "execution_count": null,
      "outputs": []
    },
    {
      "cell_type": "code",
      "source": [
        "import matplotlib.pyplot as plt\n",
        "from statsmodels.graphics.tsaplots import plot_acf\n",
        "import statsmodels.api as sm\n",
        "import pandas as pd\n",
        "\n",
        "# สร้าง subplot 2x1\n",
        "fig, axes = plt.subplots(2, 1, figsize=(10, 6))\n",
        "\n",
        "# วาดกราฟของ 'cp_ptt' ใน subplot แรก\n",
        "axes[0].plot(df_train, label='cp_ptt')\n",
        "axes[0].set_title('Close Price for PTT')\n",
        "axes[0].set_xlabel('Date')\n",
        "axes[0].set_ylabel('Close Price')\n",
        "\n",
        "# พล็อตกราฟ ACF ใน subplot ที่สอง\n",
        "sm.graphics.tsa.plot_acf(df_train, lags=130, ax=axes[1], marker=' ')  # เปลี่ยนคอลัมน์ให้ตรงกับข้อมูลจริง\n",
        "axes[1].set_title('ACF ของราคาปิดหุ้น PTT')\n",
        "axes[1].set_xlabel('Lag')\n",
        "axes[1].set_ylabel('ACF')\n",
        "\n",
        "# แสดงกราฟเทียบระหว่างกราฟข้อมูลจริงกับกราฟ ACF\n",
        "plt.tight_layout()\n",
        "plt.show()\n",
        "\n"
      ],
      "metadata": {
        "id": "yPOtSjyz17ha"
      },
      "execution_count": null,
      "outputs": []
    },
    {
      "cell_type": "markdown",
      "source": [
        "###ทดสอบ ADF"
      ],
      "metadata": {
        "id": "UUfl_EvxvFoV"
      }
    },
    {
      "cell_type": "code",
      "source": [
        "import pandas as pd\n",
        "from statsmodels.tsa.stattools import adfuller\n",
        "\n",
        "\n",
        "# ทำ ADF Test\n",
        "adf_result = adfuller(df_train)\n",
        "\n",
        "# แสดงผลลัพธ์\n",
        "print(\"ADF Statistic:\", adf_result[0])\n",
        "print(\"p-value:\", adf_result[1])\n",
        "print(\"Critical Values:\", adf_result[4])\n",
        "#ค่า ADF Statistic มากกว่า Critical Values = ไม่นิ่ง"
      ],
      "metadata": {
        "id": "RdGYVf3au52F"
      },
      "execution_count": null,
      "outputs": []
    },
    {
      "cell_type": "markdown",
      "source": [
        "###Different 1"
      ],
      "metadata": {
        "id": "3RQfXVEB3q_Y"
      }
    },
    {
      "cell_type": "markdown",
      "source": [
        "###ACF_ptt_diff"
      ],
      "metadata": {
        "id": "yZVYDn-V3wgv"
      }
    },
    {
      "cell_type": "code",
      "source": [
        "# ลบค่าก่อนหน้าเพื่อทำให้ข้อมูล stationary\n",
        "#ใชการแปลงอนุกรมเวลาให้มีค่าเฉลี่ยคงที่โดยหาผลต่างครั้งที่ d=1\n",
        "import numpy as np\n",
        "df_train['cp_ptt_diff'] = df_train['cp_ptt'].diff()\n",
        "df_train.replace(np.nan, 0, inplace=True)\n",
        "#a_train.dropna(inplace=True)  # ลบแถวที่มีค่าที่ขาดหาย"
      ],
      "metadata": {
        "id": "7v6xfScJwYN6"
      },
      "execution_count": null,
      "outputs": []
    },
    {
      "cell_type": "code",
      "source": [
        "import matplotlib.pyplot as plt\n",
        "from statsmodels.graphics.tsaplots import plot_acf\n",
        "import statsmodels.api as sm\n",
        "import pandas as pd\n",
        "\n",
        "# สร้าง subplot 2x1\n",
        "fig, axes = plt.subplots(2, 1, figsize=(10, 6))\n",
        "\n",
        "# วาดกราฟของ 'cp_ptt' ใน subplot แรก\n",
        "axes[0].plot(df_train['cp_ptt_diff'], label='cp_ptt_diff')\n",
        "axes[0].set_title('ผลต่างของราคาปิดหุ้น PTT ครั้งที่ 1')\n",
        "axes[0].set_xlabel('วันที่')\n",
        "axes[0].set_ylabel('ราคาปิด')\n",
        "\n",
        "# พล็อตกราฟ ACF ใน subplot ที่สอง\n",
        "sm.graphics.tsa.plot_acf(df_train['cp_ptt_diff'], lags=141, ax=axes[1], marker=' ')  # เปลี่ยนคอลัมน์ให้ตรงกับข้อมูลจริง\n",
        "axes[1].set_title('ACF ของราคาปิดหุ้น PTT จากการหาผลต่างครั้งที่ 1')\n",
        "axes[1].set_xlabel('Lag')\n",
        "axes[1].set_ylabel('ACF')\n",
        "\n",
        "# แสดงกราฟเทียบระหว่างกราฟข้อมูลจริงกับกราฟ ACF\n",
        "plt.tight_layout()\n",
        "plt.show()\n"
      ],
      "metadata": {
        "id": "ajSqYgQx4SAM"
      },
      "execution_count": null,
      "outputs": []
    },
    {
      "cell_type": "code",
      "source": [
        "# ทำ ADF Test อีกครั้ง\n",
        "from statsmodels.tsa.stattools import adfuller\n",
        "adf_result = adfuller(df_train['cp_ptt_diff'])\n",
        "print(\"ADF Statistic:\", adf_result[0])\n",
        "print(\"p-value:\", adf_result[1])\n",
        "print(\"Critical Values:\", adf_result[4])\n",
        "#เนื่องจากค่า ADF Statistic น้อยกว่า Critical Values แสดงว่าข้อมูลนิ่งแล้ว"
      ],
      "metadata": {
        "id": "ZD0dGJUH4Ma1"
      },
      "execution_count": null,
      "outputs": []
    },
    {
      "cell_type": "markdown",
      "source": [
        "##กำหนดตัวแบบ"
      ],
      "metadata": {
        "id": "sv5_NK0L8q1L"
      }
    },
    {
      "cell_type": "code",
      "source": [
        "import matplotlib.pyplot as plt\n",
        "from statsmodels.graphics.tsaplots import plot_acf, plot_pacf\n",
        "import statsmodels.api as sm\n",
        "import pandas as pd\n",
        "\n",
        "# สร้าง subplot 2x1\n",
        "fig, axes = plt.subplots(2, 1, figsize=(8, 6))\n",
        "\n",
        "# พล็อตกราฟ ACF ใน subplot แรก\n",
        "plot_acf(df_train['cp_ptt_diff'], lags=130, ax=axes[0], marker=' ')\n",
        "axes[0].set_title('ACF Residual ของราคาปิดหุ้น PTT')\n",
        "axes[0].set_xlabel('Lag')\n",
        "axes[0].set_ylabel('ACF')\n",
        "\n",
        "# พล็อตกราฟ PACF ใน subplot ที่สอง\n",
        "plot_pacf(df_train['cp_ptt_diff'], lags=130, ax=axes[1], marker=' ')\n",
        "axes[1].set_title('PACF Residual ของราคาปิดหุ้น PTT')\n",
        "axes[1].set_xlabel('Lag')\n",
        "axes[1].set_ylabel('PACF')\n",
        "\n",
        "# แสดงกราฟเทียบระหว่าง ACF และ PACF\n",
        "plt.tight_layout()\n",
        "plt.show()\n"
      ],
      "metadata": {
        "id": "quisUONLTvs4"
      },
      "execution_count": null,
      "outputs": []
    },
    {
      "cell_type": "markdown",
      "source": [
        "##ประมาณค่าพารามิเตอร์"
      ],
      "metadata": {
        "id": "q_AS7VsOAOJQ"
      }
    },
    {
      "cell_type": "code",
      "source": [
        "from statsmodels.tsa.arima.model import ARIMA\n",
        "\n",
        "# สร้างแบบจำลอง ARIMA\n",
        "model = ARIMA(df_train['cp_ptt'], order=(2, 1, 2))\n",
        "# model = ARIMA(df_train['cp_ptt'], order=(2, 1, 2),trend='t)\n",
        "# ปรับโมเดล\n",
        "results = model.fit()\n",
        "\n",
        "# ดูสรุปของโมเดล\n",
        "print(results.summary())\n"
      ],
      "metadata": {
        "id": "Dg6gil-EfHr5"
      },
      "execution_count": null,
      "outputs": []
    },
    {
      "cell_type": "code",
      "source": [
        "# forecast_test = results.forecast(len(df_test))\n",
        "# arima_ptt['fore_man'] = [None]*len(df_train)+list(forecast_test)\n",
        "# arima_ptt.plot()"
      ],
      "metadata": {
        "id": "6TrUN9TBWaVy"
      },
      "execution_count": null,
      "outputs": []
    },
    {
      "cell_type": "code",
      "source": [
        "# predictions.to_csv('predictions.csv', index=False)"
      ],
      "metadata": {
        "id": "Y8tWB8W5lUFk"
      },
      "execution_count": null,
      "outputs": []
    },
    {
      "cell_type": "markdown",
      "source": [
        "## RMSE MAPE ของ ARIMA"
      ],
      "metadata": {
        "id": "rNk5OnS6Oi7f"
      }
    },
    {
      "cell_type": "code",
      "source": [
        "#forecasting train data\n",
        "predictions = results.predict(start=0, end=len(df_train['cp_ptt']) - 1)"
      ],
      "metadata": {
        "id": "czLFI-f6IX9U"
      },
      "execution_count": null,
      "outputs": []
    },
    {
      "cell_type": "code",
      "source": [
        "import pandas as pd\n",
        "arima_data = pd.DataFrame({'Actual': df_train['cp_ptt'], 'Forecast': predictions})\n",
        "arima_data"
      ],
      "metadata": {
        "id": "2qhMFlMZNU-q"
      },
      "execution_count": null,
      "outputs": []
    },
    {
      "cell_type": "code",
      "source": [
        "max_original = all_data_X['cp_ptt'].max()  # Max Value ของข้อมูลเดิม\n",
        "min_original = all_data_X['cp_ptt'].min()  # Min Value ของข้อมูลเดิม\n",
        "\n",
        "arima_data['Actual'] = (arima_data['Actual'] * (max_original - min_original)) +min_original\n",
        "arima_data['Forecast'] = (arima_data['Forecast'] * (max_original - min_original)) + min_original\n",
        "arima_data"
      ],
      "metadata": {
        "id": "1GhSL_mcOnvX"
      },
      "execution_count": null,
      "outputs": []
    },
    {
      "cell_type": "code",
      "source": [
        "from sklearn.metrics import mean_squared_error\n",
        "from sklearn.metrics import mean_absolute_error\n",
        "mse = mean_squared_error(arima_data['Actual'], arima_data['Forecast'])\n",
        "rmse = np.sqrt(mse)\n",
        "print(f\"Root Mean Squared Error (RMSE) : {rmse:.4}\")\n",
        "\n",
        "n = len(arima_data['Actual'])\n",
        "mape = (1/n) * np.sum(np.abs((arima_data['Actual'] - arima_data['Forecast']) /arima_data['Actual'])) *100\n",
        "print(f\"Mean Absolute Percentage Error (MAPE) :{mape:.4}%\")"
      ],
      "metadata": {
        "id": "SOmgkg8-Oy6P"
      },
      "execution_count": null,
      "outputs": []
    },
    {
      "cell_type": "markdown",
      "source": [
        "##ประมาณค่า GARCH"
      ],
      "metadata": {
        "id": "fd0lP28h_jBM"
      }
    },
    {
      "cell_type": "markdown",
      "source": [
        "![416306217_787635270069530_271999249432342296_n.png](data:image/png;base64,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)![418435640_3819835648246183_7608682514884702587_n.png](data:image/png;base64,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)"
      ],
      "metadata": {
        "id": "Kkv1tYlt8how"
      }
    },
    {
      "cell_type": "code",
      "source": [
        "!pip install pmdarima\n",
        "!pip install arch"
      ],
      "metadata": {
        "id": "K7C9SoAWiqSx"
      },
      "execution_count": null,
      "outputs": []
    },
    {
      "cell_type": "code",
      "source": [
        "garch_x = cm_df[[\"cp_wti\",\"cp_ex\",\"cp_xau\",\"vol_ptt\"]]\n",
        "garch_y = cm_df[[\"cp_ptt\"]]\n",
        "\n",
        "#ใช้กับ ARIMA-GARCH\n",
        "X_train = garch_x.iloc[:522,:]\n",
        "X_test = garch_x.iloc[522:,:]\n",
        "y_train = garch_y.iloc[:522]\n",
        "y_test = garch_y.iloc[522:]\n"
      ],
      "metadata": {
        "id": "OrZzwW503KDD"
      },
      "execution_count": null,
      "outputs": []
    },
    {
      "cell_type": "code",
      "source": [
        "\n",
        "import numpy as np\n",
        "import pandas as pd\n",
        "from arch import arch_model\n",
        "import statsmodels.api as sm\n",
        "from statsmodels.tsa.arima.model import ARIMA\n",
        "\n",
        "#ARIMA\n",
        "arima_residuals = results.resid\n",
        "\n",
        "# สร้าง GARCH\n",
        "exog_data = X_train[['cp_ex', 'cp_xau', 'vol_ptt','cp_wti']]\n",
        "garch_model = arch_model(arima_residuals, vol='Garch', p=1, q=0, x=exog_data,mean='zero')\n",
        "garch_results = garch_model.fit()\n",
        "print(garch_results.summary())"
      ],
      "metadata": {
        "id": "mhM5azMedkI0"
      },
      "execution_count": null,
      "outputs": []
    },
    {
      "cell_type": "markdown",
      "source": [
        "## RMSE MAPE ของ GARCH"
      ],
      "metadata": {
        "id": "DWbbOb6IsSzh"
      }
    },
    {
      "cell_type": "code",
      "source": [
        "import pandas as pd\n",
        "import numpy as np\n",
        "forecast_g_rmma = garch_results.forecast(horizon=len(X_train))\n",
        "forecast_g_rmma = np.sqrt(forecast_g_rmma.variance.values[-1,:])"
      ],
      "metadata": {
        "id": "eWUtfpVzsTkd"
      },
      "execution_count": null,
      "outputs": []
    },
    {
      "cell_type": "code",
      "source": [
        "forecast_g_rmma = pd.DataFrame({'ค่าจริง': df_train['cp_ptt'], 'ค่าพยากรณ์': forecast_g_rmma})\n",
        "forecast_g_rmma"
      ],
      "metadata": {
        "id": "vnTewR4huXLj"
      },
      "execution_count": null,
      "outputs": []
    },
    {
      "cell_type": "code",
      "source": [
        "max_original = all_data_X['cp_ptt'].max()  # Max Value ของข้อมูลเดิม\n",
        "min_original = all_data_X['cp_ptt'].min()  # Min Value ของข้อมูลเดิม\n",
        "\n",
        "forecast_g_rmma['ค่าจริง'] = (forecast_g_rmma['ค่าจริง'] * (max_original - min_original)) +min_original\n",
        "forecast_g_rmma['ค่าพยากรณ์'] = (forecast_g_rmma['ค่าพยากรณ์'] * (max_original - min_original)) + min_original\n",
        "forecast_g_rmma.shape"
      ],
      "metadata": {
        "id": "9pDsb_vB0Qyv"
      },
      "execution_count": null,
      "outputs": []
    },
    {
      "cell_type": "code",
      "source": [
        "from sklearn.metrics import mean_squared_error\n",
        "from sklearn.metrics import mean_absolute_error\n",
        "mse = mean_squared_error(forecast_g_rmma['ค่าจริง'], forecast_g_rmma['ค่าพยากรณ์'])\n",
        "rmse = np.sqrt(mse)\n",
        "print(f\"Root Mean Squared Error (RMSE) : {rmse:.4}\")\n",
        "\n",
        "n = len(forecast_g_rmma['ค่าจริง'])\n",
        "mape = (1/n) * np.sum(np.abs((forecast_g_rmma['ค่าจริง'] - forecast_g_rmma['ค่าพยากรณ์']) /forecast_g_rmma['ค่าจริง'])) *100\n",
        "print(f\"Mean Absolute Percentage Error (MAPE) :{mape:.4}%\")"
      ],
      "metadata": {
        "id": "8JnNs74P0Qyw"
      },
      "execution_count": null,
      "outputs": []
    },
    {
      "cell_type": "markdown",
      "source": [
        "#ARIMA-GARCH Test"
      ],
      "metadata": {
        "id": "9EIDpmspoztp"
      }
    },
    {
      "cell_type": "code",
      "source": [
        "forecast_test = results.forecast(len(df_test))\n",
        "arima_ptt['fore_man'] = [None]*len(df_train)+list(forecast_test)\n",
        "# arima_ptt.plot()\n",
        "arima_ptt_fore = arima_ptt['fore_man'].iloc[522:]\n"
      ],
      "metadata": {
        "id": "rYp2P4EgmWlh"
      },
      "execution_count": null,
      "outputs": []
    },
    {
      "cell_type": "code",
      "source": [
        "#รวม ARIMA-GARCH\n",
        "predict = garch_results.forecast(horizon=43)\n",
        "garch_ptt_fore = np.sqrt(predict.variance.values[-1,:])\n",
        "arima_garch_test = arima_ptt_fore + garch_ptt_fore"
      ],
      "metadata": {
        "id": "JKrF4J25odFr"
      },
      "execution_count": null,
      "outputs": []
    },
    {
      "cell_type": "code",
      "source": [
        "import matplotlib.pyplot as plt\n",
        "\n",
        "\n",
        "# พล็อตกราฟ\n",
        "plt.figure(figsize=(12, 6))\n",
        "plt.plot(arima_ptt['cp_ptt'], label='Actual', color='blue')\n",
        "plt.plot(arima_garch_test, label='Forecast', color='orange')\n",
        "plt.title('ARIMA-GARCH Forecast')\n",
        "plt.xlabel('Date')\n",
        "plt.ylabel('cp_ptt')\n",
        "plt.legend()\n",
        "plt.show()\n"
      ],
      "metadata": {
        "id": "lZ103yo4edST"
      },
      "execution_count": null,
      "outputs": []
    },
    {
      "cell_type": "code",
      "source": [
        "import pandas as pd\n",
        "import numpy as np\n",
        "\n",
        "arima_garch_test = pd.DataFrame({'ค่าจริง': df_test['cp_ptt'], 'ค่าพยากรณ์': arima_garch_test})\n",
        "arima_garch_test.head"
      ],
      "metadata": {
        "id": "nLPxC_yI0OXq"
      },
      "execution_count": null,
      "outputs": []
    },
    {
      "cell_type": "markdown",
      "source": [
        "###RMSE MAPE ของ ARIMA-GARCH Test"
      ],
      "metadata": {
        "id": "Qb7PNlcZtl0-"
      }
    },
    {
      "cell_type": "code",
      "source": [
        "max_original = all_data_X['cp_ptt'].max()  # Max Value ของข้อมูลเดิม\n",
        "min_original = all_data_X['cp_ptt'].min()  # Min Value ของข้อมูลเดิม\n",
        "\n",
        "arima_garch_test['ค่าจริง'] = (arima_garch_test['ค่าจริง'] * (max_original - min_original)) +min_original\n",
        "arima_garch_test['ค่าพยากรณ์'] = (arima_garch_test['ค่าพยากรณ์'] * (max_original - min_original)) + min_original\n",
        "arima_garch_test.shape"
      ],
      "metadata": {
        "id": "wuUFabk5z9YX"
      },
      "execution_count": null,
      "outputs": []
    },
    {
      "cell_type": "code",
      "source": [
        "from sklearn.metrics import mean_squared_error\n",
        "from sklearn.metrics import mean_absolute_error\n",
        "mse = mean_squared_error(arima_garch_test['ค่าจริง'], arima_garch_test['ค่าพยากรณ์'])\n",
        "rmse = np.sqrt(mse)\n",
        "print(f\"Root Mean Squared Error (RMSE) : {rmse:.4}\")\n",
        "\n",
        "n = len(arima_garch_test['ค่าจริง'])\n",
        "mape = (1/n) * np.sum(np.abs((arima_garch_test['ค่าจริง'] - arima_garch_test['ค่าพยากรณ์']) /arima_garch_test['ค่าจริง'])) *100\n",
        "print(f\"Mean Absolute Percentage Error (MAPE) :{mape:.4}%\")"
      ],
      "metadata": {
        "id": "nf8I4y_y7cZE"
      },
      "execution_count": null,
      "outputs": []
    },
    {
      "cell_type": "code",
      "source": [
        "#arima_garch_test.to_csv('arima_garch.csv', index=False)"
      ],
      "metadata": {
        "id": "P0zphtfe4plr"
      },
      "execution_count": null,
      "outputs": []
    },
    {
      "cell_type": "markdown",
      "source": [
        "#ARIMA-GARCH Train"
      ],
      "metadata": {
        "id": "iZD7M4CPttID"
      }
    },
    {
      "cell_type": "code",
      "source": [
        "forecast_g = garch_results.forecast(horizon=len(X_train))\n",
        "garch_ptt_fore_g = np.sqrt(forecast_g.variance.values[-1,:])"
      ],
      "metadata": {
        "id": "k3eQCUlhtcER"
      },
      "execution_count": null,
      "outputs": []
    },
    {
      "cell_type": "code",
      "source": [
        "#รวม ARIMA-GARCH\n",
        "\n",
        "arima_garch_train = predictions + garch_ptt_fore_g"
      ],
      "metadata": {
        "id": "71gyQN_f0fc8"
      },
      "execution_count": null,
      "outputs": []
    },
    {
      "cell_type": "code",
      "source": [
        "import matplotlib.pyplot as plt\n",
        "\n",
        "\n",
        "# พล็อตกราฟ\n",
        "plt.figure(figsize=(12, 6))\n",
        "plt.plot(arima_ptt['cp_ptt'], label='Actual', color='blue')\n",
        "plt.plot(arima_garch_train, label='Forecast', color='orange')\n",
        "plt.title('ARIMA-GARCH Forecast')\n",
        "plt.xlabel('Date')\n",
        "plt.ylabel('cp_ptt')\n",
        "plt.legend()\n",
        "plt.show()"
      ],
      "metadata": {
        "id": "NgclkvduuGbQ"
      },
      "execution_count": null,
      "outputs": []
    },
    {
      "cell_type": "code",
      "source": [
        "import pandas as pd\n",
        "import numpy as np\n",
        "\n",
        "arima_garch_train = pd.DataFrame({'ค่าจริง': df_train['cp_ptt'], 'ค่าพยากรณ์': arima_garch_train})\n",
        "arima_garch_train.head"
      ],
      "metadata": {
        "id": "8nmxescP6L3u"
      },
      "execution_count": null,
      "outputs": []
    },
    {
      "cell_type": "markdown",
      "source": [
        "###RMSE MAPE ของ ARIMA-GARCH Train"
      ],
      "metadata": {
        "id": "QW7guGsd6udS"
      }
    },
    {
      "cell_type": "code",
      "source": [
        "max_original = all_data_X['cp_ptt'].max()  # Max Value ของข้อมูลเดิม\n",
        "min_original = all_data_X['cp_ptt'].min()  # Min Value ของข้อมูลเดิม\n",
        "\n",
        "arima_garch_train['ค่าจริง'] = (arima_garch_train['ค่าจริง'] * (max_original - min_original)) +min_original\n",
        "arima_garch_train['ค่าพยากรณ์'] = (arima_garch_train['ค่าพยากรณ์'] * (max_original - min_original)) + min_original\n",
        "arima_garch_train.shape"
      ],
      "metadata": {
        "id": "CdFMpCvt6udT"
      },
      "execution_count": null,
      "outputs": []
    },
    {
      "cell_type": "code",
      "source": [
        "from sklearn.metrics import mean_squared_error\n",
        "from sklearn.metrics import mean_absolute_error\n",
        "mse = mean_squared_error(arima_garch_train['ค่าจริง'], arima_garch_train['ค่าพยากรณ์'])\n",
        "rmse = np.sqrt(mse)\n",
        "print(f\"Root Mean Squared Error (RMSE) : {rmse:.4}\")\n",
        "\n",
        "n = len(arima_garch_train['ค่าจริง'])\n",
        "mape = (1/n) * np.sum(np.abs((arima_garch_train['ค่าจริง'] - arima_garch_train['ค่าพยากรณ์']) /arima_garch_train['ค่าจริง'])) *100\n",
        "print(f\"Mean Absolute Percentage Error (MAPE) :{mape:.4}%\")"
      ],
      "metadata": {
        "id": "bkTvlv0g6udU"
      },
      "execution_count": null,
      "outputs": []
    },
    {
      "cell_type": "code",
      "source": [
        "arima_garch_train.to_csv('arima_garch_train.csv', index=False)"
      ],
      "metadata": {
        "id": "xU0aeOzP6CSL"
      },
      "execution_count": null,
      "outputs": []
    }
  ]
}